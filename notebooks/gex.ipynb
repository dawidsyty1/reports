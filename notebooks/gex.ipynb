{
 "cells": [
  {
   "cell_type": "raw",
   "id": "a1f9102a-8d99-4391-8d1f-b4c8621bcd9c",
   "metadata": {},
   "source": []
  },
  {
   "cell_type": "code",
   "execution_count": null,
   "id": "0d3fe75f-4e00-4c55-b63c-7ccffe97c1d3",
   "metadata": {
    "tags": []
   },
   "outputs": [],
   "source": []
  },
  {
   "cell_type": "code",
   "execution_count": 4,
   "id": "c1712061",
   "metadata": {
    "scrolled": true,
    "tags": []
   },
   "outputs": [],
   "source": [
    "from openbb_terminal.stocks.options import (\n",
    "    alphaquery_view,\n",
    "    barchart_view,\n",
    "    calculator_view,\n",
    "    chartexchange_view,\n",
    "    fdscanner_view,\n",
    "    intrinio_model,\n",
    "    intrinio_view,\n",
    "    nasdaq_model,\n",
    "    tradier_model,\n",
    "    tradier_view,\n",
    "    yfinance_model,\n",
    "    yfinance_view,\n",
    ")\n",
    "import pytz\n",
    "import pandas as pd\n",
    "from openbb_terminal import OpenBBFigure, theme\n",
    "import matplotlib.pyplot as plt\n",
    "from openbb_terminal.helper_funcs import get_user_timezone\n",
    "from openbb_terminal.stocks.options import alphaquery_model\n",
    "from datetime import datetime, timedelta\n",
    "from dateutil.relativedelta import relativedelta\n",
    "from tqdm import tqdm\n",
    "from openbb_terminal.stocks.options.yfinance_model import (\n",
    "    generate_data,\n",
    "    get_option_chain,\n",
    "    get_price,\n",
    ")\n",
    "from pathlib import Path\n",
    "from openbb_terminal.stocks import cboe_view, stocks_helper, stocks_view\n",
    "from openbb_terminal.stocks.options import op_helpers, yfinance_model\n",
    "from typing import Any, Dict, List, Optional, Union\n",
    "from openbb_terminal.core.plots.plotly_ta.ta_class import PlotlyTA\n",
    "from openbb_terminal.reports import widget_helpers as widgets\n",
    "from collections import defaultdict\n",
    "from matplotlib import pyplot as plt\n",
    "import yfinance as yf\n",
    "import numpy as np\n",
    "from scipy.stats import norm\n",
    "import talib\n",
    "from tabulate import tabulate\n",
    "import base64\n",
    "from google.cloud import storage\n",
    "import os\n",
    "\n"
   ]
  },
  {
   "cell_type": "code",
   "execution_count": 33,
   "id": "4f9a3f6e-757a-40d5-b692-61cb2f83ab5b",
   "metadata": {
    "tags": []
   },
   "outputs": [
    {
     "data": {
      "text/html": [
       "<pre style=\"white-space:pre;overflow-x:auto;line-height:normal;font-family:Menlo,'DejaVu Sans Mono',consolas,'Courier New',monospace\"></pre>\n"
      ],
      "text/plain": [
       "\u001b[?25l"
      ]
     },
     "metadata": {},
     "output_type": "display_data"
    },
    {
     "data": {
      "application/vnd.jupyter.widget-view+json": {
       "model_id": "8b49395533d641a1a9f2379da8d0525b",
       "version_major": 2,
       "version_minor": 0
      },
      "text/plain": [
       "Output()"
      ]
     },
     "metadata": {},
     "output_type": "display_data"
    },
    {
     "data": {
      "text/html": [
       "<pre style=\"white-space:pre;overflow-x:auto;line-height:normal;font-family:Menlo,'DejaVu Sans Mono',consolas,'Courier New',monospace\">\n",
       "</pre>\n"
      ],
      "text/plain": [
       "\n",
       "\u001b[?25h"
      ]
     },
     "metadata": {},
     "output_type": "display_data"
    }
   ],
   "source": [
    "symbol = \"SPY\"\n",
    "full_chain = yfinance_model.get_full_option_chain(symbol)\n",
    "full_chain['strike'] = full_chain['strike'].astype(float)\n",
    "current_price = yfinance_model.get_price(symbol) "
   ]
  },
  {
   "cell_type": "code",
   "execution_count": 73,
   "id": "922eabf9-1f55-41ba-b4d7-9b5e1896512e",
   "metadata": {
    "tags": []
   },
   "outputs": [],
   "source": [
    "min_strike = 0.90 * current_price\n",
    "max_strike = 1.10 * current_price\n",
    "div_cont: float = 0\n",
    "rf: Optional[float] = None\n",
    "show_all: bool = False"
   ]
  },
  {
   "cell_type": "code",
   "execution_count": 74,
   "id": "a0f9113c-6751-48f5-a102-505350e02b70",
   "metadata": {
    "tags": []
   },
   "outputs": [],
   "source": [
    "one_chain = full_chain[full_chain[\"expiration\"] == '2023-10-24']\n",
    "from collections import defaultdict \n",
    "total_gex = defaultdict(list)"
   ]
  },
  {
   "cell_type": "code",
   "execution_count": 75,
   "id": "8f3a4009-43ef-4086-a0fa-98e2095427c5",
   "metadata": {
    "scrolled": true,
    "tags": []
   },
   "outputs": [],
   "source": [
    "for expiry, chain in one_chain.groupby([\"expiration\"]):\n",
    "    chain = chain[chain[\"strike\"] >= min_strike]\n",
    "    chain = chain[chain[\"strike\"] <= max_strike]\n",
    "    calls = op_helpers.get_greeks(\n",
    "        current_price=current_price,\n",
    "        expire=expiry,\n",
    "        calls=chain[chain[\"optionType\"] == \"call\"],\n",
    "        puts=chain[chain[\"optionType\"] == \"put\"],\n",
    "        div_cont=div_cont,\n",
    "        rf=rf,\n",
    "        opt_type=1,\n",
    "        show_extra_greeks=False,\n",
    "    )\n",
    "\n",
    "    chain = chain[chain[\"optionType\"] == \"call\"]\n",
    "    for index, row in calls.iterrows():\n",
    "        oi = chain[chain[\"strike\"] == row.Strike]\n",
    "        total_gex['Strike'].append(row.Strike)\n",
    "        total_gex['CALL'].append(oi['openInterest'].iloc[0] * row.Gamma)\n"
   ]
  },
  {
   "cell_type": "code",
   "execution_count": 76,
   "id": "3f3f00f5-c48f-4583-90a6-634853258d12",
   "metadata": {
    "tags": []
   },
   "outputs": [],
   "source": [
    "for expiry, chain in one_chain.groupby([\"expiration\"]):\n",
    "    chain = chain[chain[\"strike\"] >= min_strike]\n",
    "    chain = chain[chain[\"strike\"] <= max_strike]\n",
    "    calls = op_helpers.get_greeks(\n",
    "        current_price=current_price,\n",
    "        expire=expiry,\n",
    "        calls=chain[chain[\"optionType\"] == \"call\"],\n",
    "        puts=chain[chain[\"optionType\"] == \"put\"],\n",
    "        div_cont=div_cont,\n",
    "        rf=rf,\n",
    "        opt_type=-1,\n",
    "        show_extra_greeks=False,\n",
    "    )\n",
    "\n",
    "    chain = chain[chain[\"optionType\"] == \"put\"]\n",
    "    for index, row in calls.iterrows():\n",
    "        oi = chain[chain[\"strike\"] == row.Strike]\n",
    "        total_gex['PUT'].append(-(oi['openInterest'].iloc[0] * row.Gamma))"
   ]
  },
  {
   "cell_type": "code",
   "execution_count": 77,
   "id": "fc2111d6-a2fb-4e46-95ef-87f2816ab863",
   "metadata": {
    "tags": []
   },
   "outputs": [
    {
     "data": {
      "application/vnd.plotly.v1+json": {
       "config": {
        "displaylogo": false,
        "plotlyServerURL": "https://plot.ly",
        "scrollZoom": true
       },
       "data": [
        {
         "marker": {
          "color": "green",
          "line": {
           "width": 0.15
          }
         },
         "name": "CALL",
         "type": "bar",
         "width": 0.8,
         "x": [
          400,
          402,
          405,
          408,
          409,
          410,
          411,
          412,
          413,
          414,
          415,
          416,
          417,
          418,
          419,
          420,
          421,
          422,
          423,
          424,
          425,
          426,
          427,
          428,
          429,
          430,
          431,
          432,
          433,
          434,
          435,
          436,
          437,
          438,
          439,
          440,
          441,
          442,
          443,
          444,
          445,
          446,
          447,
          448,
          449,
          450,
          451,
          452,
          453,
          454,
          455,
          456,
          457,
          458,
          459,
          460,
          461,
          465
         ],
         "y": [
          0,
          0,
          0.005539525101063453,
          0.02257749892774379,
          0.4252024766024091,
          0.12293167179747487,
          0.03425215357925616,
          0.08441301163317025,
          0.1852393391685201,
          0.012559735281519982,
          1.5473364451577032,
          0.4145974226774973,
          2.2151543704323986,
          8.664603702338855,
          12.968880175857667,
          84.64925517980568,
          98.33317421182991,
          358.90805334116277,
          455.23418850838993,
          227.6714045605539,
          432.98637086129315,
          261.47164730056693,
          103.76823659756948,
          96.91300788557628,
          36.916729689144084,
          28.567022333285436,
          7.9331903356993685,
          4.4969039676972615,
          2.6418689269809965,
          1.4876679868428702,
          1.381011812512817,
          0.989593569400512,
          0.23879320669255708,
          0.13821503067702487,
          0.10265092979700366,
          0.2172865239967713,
          0.08070878394437689,
          0.06131936374653668,
          0.07091605764353441,
          0.5370624636114987,
          0.05116794673457952,
          0.024538922479290178,
          6.616749919849167e-17,
          0.013291553343944102,
          0.008494358660360293,
          0.015012385440910733,
          0.001755322961639991,
          0.002362931073090674,
          0.0027320897524359083,
          7.862066351876915e-07,
          2.6008230466727935e-07,
          0.003524384610965571,
          0.002313688004270777,
          0.036909520245005684,
          3.2138314059869437e-09,
          0.0033046123564295254,
          5.191677588867683e-11,
          0.00015573332754027292
         ]
        },
        {
         "marker": {
          "color": "red",
          "line": {
           "width": 0.15
          }
         },
         "name": "PUT",
         "type": "bar",
         "width": 0.8,
         "x": [
          400,
          402,
          405,
          408,
          409,
          410,
          411,
          412,
          413,
          414,
          415,
          416,
          417,
          418,
          419,
          420,
          421,
          422,
          423,
          424,
          425,
          426,
          427,
          428,
          429,
          430,
          431,
          432,
          433,
          434,
          435,
          436,
          437,
          438,
          439,
          440,
          441,
          442,
          443,
          444,
          445,
          446,
          447,
          448,
          449,
          450,
          451,
          452,
          453,
          454,
          455,
          456,
          457,
          458,
          459,
          460,
          461,
          465
         ],
         "y": [
          -0.00033080653520197183,
          -0.0016401262423109708,
          -0.007570449419295004,
          -0.012174920525892547,
          -0.013858063182568537,
          -0.0025547100030188057,
          -0.013981971483708342,
          -0.00046427507823337496,
          -0.0017720793732393094,
          -0.004760252185035046,
          -0.0016864877473780503,
          -0.0002983838608756404,
          -0.0013864372894273082,
          -0.0011270905972278413,
          -0.011492869554081079,
          -0.0006539008313121955,
          -0.009686935077810682,
          -0.06303862556597044,
          -0.025358736999214326,
          -0.7463738453878112,
          -0.18450283939127615,
          -0.14892161192080772,
          -0.06726199807877524,
          -0.04795346413720221,
          -0.1456751945000515,
          -0.08779064428026846,
          -0.9085595456768276,
          -0.6617487748742931,
          -0.5056258462241343,
          -1.9339106108505444,
          0,
          -4.492724195745165,
          -27.324882074221573,
          -8.513775241223188,
          -29.23682133308829,
          -25.10693192270675,
          -62.084625130924785,
          -183.42458954708852,
          -151.00249294199787,
          -245.57010934632393,
          -278.4218284724571,
          -425.9064420462365,
          -460.4221743955809,
          -186.04318416370788,
          -352.7121221392678,
          -211.03722614499708,
          -299.30631880601544,
          -102.2681314850842,
          0,
          0,
          0,
          -60.04616899757621,
          0,
          -4.061756769135226,
          0,
          -0.36776645205951847,
          0,
          0,
          0,
          0,
          -0.019531740058811885,
          -0.0020834465211927024,
          0,
          0,
          0,
          0,
          0,
          0,
          0
         ]
        }
       ],
       "layout": {
        "annotations": [
         {
          "font": {
           "color": "gray",
           "size": 17
          },
          "opacity": 0.5,
          "showarrow": false,
          "text": "OpenBB Terminal",
          "x": 1,
          "xanchor": "right",
          "xref": "paper",
          "xshift": 40,
          "y": 0,
          "yanchor": "bottom",
          "yref": "paper",
          "yshift": -80
         }
        ],
        "autosize": true,
        "bargap": 0,
        "bargroupgap": 0,
        "barmode": "overlay",
        "legend": {
         "orientation": "v"
        },
        "margin": {
         "b": 80,
         "l": 40,
         "r": 50,
         "t": 50
        },
        "template": {
         "data": {
          "bar": [
           {
            "error_x": {
             "color": "#f2f5fa"
            },
            "error_y": {
             "color": "#f2f5fa"
            },
            "marker": {
             "line": {
              "color": "rgb(17,17,17)",
              "width": 0.5
             },
             "pattern": {
              "fillmode": "overlay",
              "size": 10,
              "solidity": 0.2
             }
            },
            "type": "bar"
           }
          ],
          "barpolar": [
           {
            "marker": {
             "line": {
              "color": "rgb(17,17,17)",
              "width": 0.5
             },
             "pattern": {
              "fillmode": "overlay",
              "size": 10,
              "solidity": 0.2
             }
            },
            "type": "barpolar"
           }
          ],
          "candlestick": [
           {
            "decreasing": {
             "fillcolor": "#e4003a",
             "line": {
              "color": "#e4003a"
             }
            },
            "increasing": {
             "fillcolor": "#00ACFF",
             "line": {
              "color": "#00ACFF"
             }
            },
            "type": "candlestick"
           }
          ],
          "carpet": [
           {
            "aaxis": {
             "endlinecolor": "#A2B1C6",
             "gridcolor": "#506784",
             "linecolor": "#506784",
             "minorgridcolor": "#506784",
             "startlinecolor": "#A2B1C6"
            },
            "baxis": {
             "endlinecolor": "#A2B1C6",
             "gridcolor": "#506784",
             "linecolor": "#506784",
             "minorgridcolor": "#506784",
             "startlinecolor": "#A2B1C6"
            },
            "type": "carpet"
           }
          ],
          "choropleth": [
           {
            "colorbar": {
             "outlinewidth": 0,
             "ticks": ""
            },
            "type": "choropleth"
           }
          ],
          "contour": [
           {
            "colorbar": {
             "outlinewidth": 0,
             "ticks": ""
            },
            "colorscale": [
             [
              0,
              "#0d0887"
             ],
             [
              0.1111111111111111,
              "#46039f"
             ],
             [
              0.2222222222222222,
              "#7201a8"
             ],
             [
              0.3333333333333333,
              "#9c179e"
             ],
             [
              0.4444444444444444,
              "#bd3786"
             ],
             [
              0.5555555555555556,
              "#d8576b"
             ],
             [
              0.6666666666666666,
              "#ed7953"
             ],
             [
              0.7777777777777778,
              "#fb9f3a"
             ],
             [
              0.8888888888888888,
              "#fdca26"
             ],
             [
              1,
              "#f0f921"
             ]
            ],
            "type": "contour"
           }
          ],
          "contourcarpet": [
           {
            "colorbar": {
             "outlinewidth": 0,
             "ticks": ""
            },
            "type": "contourcarpet"
           }
          ],
          "heatmap": [
           {
            "colorbar": {
             "outlinewidth": 0,
             "ticks": ""
            },
            "colorscale": [
             [
              0,
              "#0d0887"
             ],
             [
              0.1111111111111111,
              "#46039f"
             ],
             [
              0.2222222222222222,
              "#7201a8"
             ],
             [
              0.3333333333333333,
              "#9c179e"
             ],
             [
              0.4444444444444444,
              "#bd3786"
             ],
             [
              0.5555555555555556,
              "#d8576b"
             ],
             [
              0.6666666666666666,
              "#ed7953"
             ],
             [
              0.7777777777777778,
              "#fb9f3a"
             ],
             [
              0.8888888888888888,
              "#fdca26"
             ],
             [
              1,
              "#f0f921"
             ]
            ],
            "type": "heatmap"
           }
          ],
          "heatmapgl": [
           {
            "colorbar": {
             "outlinewidth": 0,
             "ticks": ""
            },
            "colorscale": [
             [
              0,
              "#0d0887"
             ],
             [
              0.1111111111111111,
              "#46039f"
             ],
             [
              0.2222222222222222,
              "#7201a8"
             ],
             [
              0.3333333333333333,
              "#9c179e"
             ],
             [
              0.4444444444444444,
              "#bd3786"
             ],
             [
              0.5555555555555556,
              "#d8576b"
             ],
             [
              0.6666666666666666,
              "#ed7953"
             ],
             [
              0.7777777777777778,
              "#fb9f3a"
             ],
             [
              0.8888888888888888,
              "#fdca26"
             ],
             [
              1,
              "#f0f921"
             ]
            ],
            "type": "heatmapgl"
           }
          ],
          "histogram": [
           {
            "marker": {
             "pattern": {
              "fillmode": "overlay",
              "size": 10,
              "solidity": 0.2
             }
            },
            "type": "histogram"
           }
          ],
          "histogram2d": [
           {
            "colorbar": {
             "outlinewidth": 0,
             "ticks": ""
            },
            "colorscale": [
             [
              0,
              "#0d0887"
             ],
             [
              0.1111111111111111,
              "#46039f"
             ],
             [
              0.2222222222222222,
              "#7201a8"
             ],
             [
              0.3333333333333333,
              "#9c179e"
             ],
             [
              0.4444444444444444,
              "#bd3786"
             ],
             [
              0.5555555555555556,
              "#d8576b"
             ],
             [
              0.6666666666666666,
              "#ed7953"
             ],
             [
              0.7777777777777778,
              "#fb9f3a"
             ],
             [
              0.8888888888888888,
              "#fdca26"
             ],
             [
              1,
              "#f0f921"
             ]
            ],
            "type": "histogram2d"
           }
          ],
          "histogram2dcontour": [
           {
            "colorbar": {
             "outlinewidth": 0,
             "ticks": ""
            },
            "colorscale": [
             [
              0,
              "#0d0887"
             ],
             [
              0.1111111111111111,
              "#46039f"
             ],
             [
              0.2222222222222222,
              "#7201a8"
             ],
             [
              0.3333333333333333,
              "#9c179e"
             ],
             [
              0.4444444444444444,
              "#bd3786"
             ],
             [
              0.5555555555555556,
              "#d8576b"
             ],
             [
              0.6666666666666666,
              "#ed7953"
             ],
             [
              0.7777777777777778,
              "#fb9f3a"
             ],
             [
              0.8888888888888888,
              "#fdca26"
             ],
             [
              1,
              "#f0f921"
             ]
            ],
            "type": "histogram2dcontour"
           }
          ],
          "mesh3d": [
           {
            "colorbar": {
             "outlinewidth": 0,
             "ticks": ""
            },
            "type": "mesh3d"
           }
          ],
          "parcoords": [
           {
            "line": {
             "colorbar": {
              "outlinewidth": 0,
              "ticks": ""
             }
            },
            "type": "parcoords"
           }
          ],
          "pie": [
           {
            "automargin": true,
            "type": "pie"
           }
          ],
          "scatter": [
           {
            "marker": {
             "line": {
              "color": "#283442"
             }
            },
            "type": "scatter"
           }
          ],
          "scatter3d": [
           {
            "line": {
             "colorbar": {
              "outlinewidth": 0,
              "ticks": ""
             }
            },
            "marker": {
             "colorbar": {
              "outlinewidth": 0,
              "ticks": ""
             }
            },
            "type": "scatter3d"
           }
          ],
          "scattercarpet": [
           {
            "marker": {
             "colorbar": {
              "outlinewidth": 0,
              "ticks": ""
             }
            },
            "type": "scattercarpet"
           }
          ],
          "scattergeo": [
           {
            "marker": {
             "colorbar": {
              "outlinewidth": 0,
              "ticks": ""
             }
            },
            "type": "scattergeo"
           }
          ],
          "scattergl": [
           {
            "marker": {
             "line": {
              "color": "#283442"
             }
            },
            "type": "scattergl"
           }
          ],
          "scattermapbox": [
           {
            "marker": {
             "colorbar": {
              "outlinewidth": 0,
              "ticks": ""
             }
            },
            "type": "scattermapbox"
           }
          ],
          "scatterpolar": [
           {
            "marker": {
             "colorbar": {
              "outlinewidth": 0,
              "ticks": ""
             }
            },
            "type": "scatterpolar"
           }
          ],
          "scatterpolargl": [
           {
            "marker": {
             "colorbar": {
              "outlinewidth": 0,
              "ticks": ""
             }
            },
            "type": "scatterpolargl"
           }
          ],
          "scatterternary": [
           {
            "marker": {
             "colorbar": {
              "outlinewidth": 0,
              "ticks": ""
             }
            },
            "type": "scatterternary"
           }
          ],
          "surface": [
           {
            "colorbar": {
             "outlinewidth": 0,
             "ticks": ""
            },
            "colorscale": [
             [
              0,
              "#0d0887"
             ],
             [
              0.1111111111111111,
              "#46039f"
             ],
             [
              0.2222222222222222,
              "#7201a8"
             ],
             [
              0.3333333333333333,
              "#9c179e"
             ],
             [
              0.4444444444444444,
              "#bd3786"
             ],
             [
              0.5555555555555556,
              "#d8576b"
             ],
             [
              0.6666666666666666,
              "#ed7953"
             ],
             [
              0.7777777777777778,
              "#fb9f3a"
             ],
             [
              0.8888888888888888,
              "#fdca26"
             ],
             [
              1,
              "#f0f921"
             ]
            ],
            "type": "surface"
           }
          ],
          "table": [
           {
            "cells": {
             "fill": {
              "color": "#506784"
             },
             "line": {
              "color": "rgb(17,17,17)"
             }
            },
            "header": {
             "fill": {
              "color": "#2a3f5f"
             },
             "line": {
              "color": "rgb(17,17,17)"
             }
            },
            "type": "table"
           }
          ]
         },
         "layout": {
          "annotationdefaults": {
           "arrowcolor": "#f2f5fa",
           "arrowhead": 0,
           "arrowwidth": 1,
           "showarrow": false
          },
          "autotypenumbers": "strict",
          "coloraxis": {
           "colorbar": {
            "outlinewidth": 0,
            "ticks": ""
           }
          },
          "colorscale": {
           "diverging": [
            [
             0,
             "#8e0152"
            ],
            [
             0.1,
             "#c51b7d"
            ],
            [
             0.2,
             "#de77ae"
            ],
            [
             0.3,
             "#f1b6da"
            ],
            [
             0.4,
             "#fde0ef"
            ],
            [
             0.5,
             "#f7f7f7"
            ],
            [
             0.6,
             "#e6f5d0"
            ],
            [
             0.7,
             "#b8e186"
            ],
            [
             0.8,
             "#7fbc41"
            ],
            [
             0.9,
             "#4d9221"
            ],
            [
             1,
             "#276419"
            ]
           ],
           "sequential": [
            [
             0,
             "#0d0887"
            ],
            [
             0.1111111111111111,
             "#46039f"
            ],
            [
             0.2222222222222222,
             "#7201a8"
            ],
            [
             0.3333333333333333,
             "#9c179e"
            ],
            [
             0.4444444444444444,
             "#bd3786"
            ],
            [
             0.5555555555555556,
             "#d8576b"
            ],
            [
             0.6666666666666666,
             "#ed7953"
            ],
            [
             0.7777777777777778,
             "#fb9f3a"
            ],
            [
             0.8888888888888888,
             "#fdca26"
            ],
            [
             1,
             "#f0f921"
            ]
           ],
           "sequentialminus": [
            [
             0,
             "#0d0887"
            ],
            [
             0.1111111111111111,
             "#46039f"
            ],
            [
             0.2222222222222222,
             "#7201a8"
            ],
            [
             0.3333333333333333,
             "#9c179e"
            ],
            [
             0.4444444444444444,
             "#bd3786"
            ],
            [
             0.5555555555555556,
             "#d8576b"
            ],
            [
             0.6666666666666666,
             "#ed7953"
            ],
            [
             0.7777777777777778,
             "#fb9f3a"
            ],
            [
             0.8888888888888888,
             "#fdca26"
            ],
            [
             1,
             "#f0f921"
            ]
           ]
          },
          "colorway": [
           "#ffed00",
           "#ef7d00",
           "#e4003a",
           "#c13246",
           "#822661",
           "#48277c",
           "#005ca9",
           "#00aaff",
           "#9b30d9",
           "#af005f",
           "#5f00af",
           "#af87ff"
          ],
          "dragmode": "pan",
          "font": {
           "color": "#f2f5fa",
           "family": "Fira Code",
           "size": 18
          },
          "geo": {
           "bgcolor": "rgb(17,17,17)",
           "lakecolor": "rgb(17,17,17)",
           "landcolor": "rgb(17,17,17)",
           "showlakes": true,
           "showland": true,
           "subunitcolor": "#506784"
          },
          "hoverlabel": {
           "align": "left"
          },
          "hovermode": "x",
          "legend": {
           "bgcolor": "rgba(0, 0, 0, 0.5)",
           "font": {
            "size": 15
           },
           "x": 0.01,
           "xanchor": "left",
           "y": 0.99,
           "yanchor": "top"
          },
          "legend2": {
           "bgcolor": "rgba(0, 0, 0, 0.5)",
           "font": {
            "size": 15
           }
          },
          "legend3": {
           "bgcolor": "rgba(0, 0, 0, 0.5)",
           "font": {
            "size": 15
           }
          },
          "legend4": {
           "bgcolor": "rgba(0, 0, 0, 0.5)",
           "font": {
            "size": 15
           }
          },
          "legend5": {
           "bgcolor": "rgba(0, 0, 0, 0.5)",
           "font": {
            "size": 15
           }
          },
          "mapbox": {
           "style": "dark"
          },
          "paper_bgcolor": "#000000",
          "plot_bgcolor": "#000000",
          "polar": {
           "angularaxis": {
            "gridcolor": "#506784",
            "linecolor": "#506784",
            "ticks": ""
           },
           "bgcolor": "rgb(17,17,17)",
           "radialaxis": {
            "gridcolor": "#506784",
            "linecolor": "#506784",
            "ticks": ""
           }
          },
          "scene": {
           "xaxis": {
            "backgroundcolor": "rgb(17,17,17)",
            "gridcolor": "#506784",
            "gridwidth": 2,
            "linecolor": "#506784",
            "showbackground": true,
            "ticks": "",
            "zerolinecolor": "#C8D4E3"
           },
           "yaxis": {
            "backgroundcolor": "rgb(17,17,17)",
            "gridcolor": "#506784",
            "gridwidth": 2,
            "linecolor": "#506784",
            "showbackground": true,
            "ticks": "",
            "zerolinecolor": "#C8D4E3"
           },
           "zaxis": {
            "backgroundcolor": "rgb(17,17,17)",
            "gridcolor": "#506784",
            "gridwidth": 2,
            "linecolor": "#506784",
            "showbackground": true,
            "ticks": "",
            "zerolinecolor": "#C8D4E3"
           }
          },
          "shapedefaults": {
           "line": {
            "color": "#f2f5fa"
           }
          },
          "sliderdefaults": {
           "bgcolor": "#C8D4E3",
           "bordercolor": "rgb(17,17,17)",
           "borderwidth": 1,
           "tickwidth": 0
          },
          "ternary": {
           "aaxis": {
            "gridcolor": "#506784",
            "linecolor": "#506784",
            "ticks": ""
           },
           "baxis": {
            "gridcolor": "#506784",
            "linecolor": "#506784",
            "ticks": ""
           },
           "bgcolor": "rgb(17,17,17)",
           "caxis": {
            "gridcolor": "#506784",
            "linecolor": "#506784",
            "ticks": ""
           }
          },
          "title": {
           "x": 0.05
          },
          "updatemenudefaults": {
           "bgcolor": "#506784",
           "borderwidth": 0
          },
          "xaxis": {
           "automargin": true,
           "autorange": true,
           "gridcolor": "#283442",
           "linecolor": "#F5EFF3",
           "mirror": true,
           "rangeslider": {
            "visible": false
           },
           "showgrid": true,
           "showline": true,
           "tick0": 1,
           "tickfont": {
            "size": 14
           },
           "ticks": "outside",
           "title": {
            "standoff": 20
           },
           "zeroline": false,
           "zerolinecolor": "#283442",
           "zerolinewidth": 2
          },
          "yaxis": {
           "anchor": "x",
           "automargin": true,
           "fixedrange": false,
           "gridcolor": "#283442",
           "linecolor": "#F5EFF3",
           "mirror": true,
           "showgrid": true,
           "showline": true,
           "side": "right",
           "tick0": 0.5,
           "ticks": "outside",
           "title": {
            "standoff": 20
           },
           "zeroline": false,
           "zerolinecolor": "#283442",
           "zerolinewidth": 2
          }
         }
        },
        "xaxis": {
         "autorange": true,
         "range": [
          399.5,
          465.5
         ],
         "type": "linear"
        },
        "yaxis": {
         "autorange": true,
         "range": [
          -511.2919723346904,
          506.10398644749944
         ],
         "type": "linear"
        }
       }
      },
      "image/png": "[encoded data removed]",
      "text/html": [
       "<div>                            <div id=\"ecd49e6d-92ff-4d7a-b6d9-807fb11ee333\" class=\"plotly-graph-div\" style=\"height:525px; width:100%;\"></div>            <script type=\"text/javascript\">                require([\"plotly\"], function(Plotly) {                    window.PLOTLYENV=window.PLOTLYENV || {};                                    if (document.getElementById(\"ecd49e6d-92ff-4d7a-b6d9-807fb11ee333\")) {                    Plotly.newPlot(                        \"ecd49e6d-92ff-4d7a-b6d9-807fb11ee333\",                        [{\"marker\":{\"color\":\"green\",\"line\":{\"width\":0.15}},\"name\":\"CALL\",\"width\":0.8,\"x\":[400.0,402.0,405.0,408.0,409.0,410.0,411.0,412.0,413.0,414.0,415.0,416.0,417.0,418.0,419.0,420.0,421.0,422.0,423.0,424.0,425.0,426.0,427.0,428.0,429.0,430.0,431.0,432.0,433.0,434.0,435.0,436.0,437.0,438.0,439.0,440.0,441.0,442.0,443.0,444.0,445.0,446.0,447.0,448.0,449.0,450.0,451.0,452.0,453.0,454.0,455.0,456.0,457.0,458.0,459.0,460.0,461.0,465.0],\"y\":[0.0,0.0,0.005539525101063453,0.02257749892774379,0.4252024766024091,0.12293167179747487,0.03425215357925616,0.08441301163317025,0.1852393391685201,0.012559735281519982,1.5473364451577032,0.4145974226774973,2.2151543704323986,8.664603702338855,12.968880175857667,84.64925517980568,98.33317421182991,358.90805334116277,455.23418850838993,227.6714045605539,432.98637086129315,261.47164730056693,103.76823659756948,96.91300788557628,36.916729689144084,28.567022333285436,7.9331903356993685,4.4969039676972615,2.6418689269809965,1.4876679868428702,1.381011812512817,0.989593569400512,0.23879320669255708,0.13821503067702487,0.10265092979700366,0.2172865239967713,0.08070878394437689,0.06131936374653668,0.07091605764353441,0.5370624636114987,0.05116794673457952,0.024538922479290178,6.616749919849167e-17,0.013291553343944102,0.008494358660360293,0.015012385440910733,0.001755322961639991,0.002362931073090674,0.0027320897524359083,7.862066351876915e-07,2.6008230466727935e-07,0.003524384610965571,0.002313688004270777,0.036909520245005684,3.2138314059869437e-09,0.0033046123564295254,5.191677588867683e-11,0.00015573332754027292],\"type\":\"bar\"},{\"marker\":{\"color\":\"red\",\"line\":{\"width\":0.15}},\"name\":\"PUT\",\"width\":0.8,\"x\":[400.0,402.0,405.0,408.0,409.0,410.0,411.0,412.0,413.0,414.0,415.0,416.0,417.0,418.0,419.0,420.0,421.0,422.0,423.0,424.0,425.0,426.0,427.0,428.0,429.0,430.0,431.0,432.0,433.0,434.0,435.0,436.0,437.0,438.0,439.0,440.0,441.0,442.0,443.0,444.0,445.0,446.0,447.0,448.0,449.0,450.0,451.0,452.0,453.0,454.0,455.0,456.0,457.0,458.0,459.0,460.0,461.0,465.0],\"y\":[-0.00033080653520197183,-0.0016401262423109708,-0.007570449419295004,-0.012174920525892547,-0.013858063182568537,-0.0025547100030188057,-0.013981971483708342,-0.00046427507823337496,-0.0017720793732393094,-0.004760252185035046,-0.0016864877473780503,-0.0002983838608756404,-0.0013864372894273082,-0.0011270905972278413,-0.011492869554081079,-0.0006539008313121955,-0.009686935077810682,-0.06303862556597044,-0.025358736999214326,-0.7463738453878112,-0.18450283939127615,-0.14892161192080772,-0.06726199807877524,-0.04795346413720221,-0.1456751945000515,-0.08779064428026846,-0.9085595456768276,-0.6617487748742931,-0.5056258462241343,-1.9339106108505444,-0.0,-4.492724195745165,-27.324882074221573,-8.513775241223188,-29.23682133308829,-25.10693192270675,-62.084625130924785,-183.42458954708852,-151.00249294199787,-245.57010934632393,-278.4218284724571,-425.9064420462365,-460.4221743955809,-186.04318416370788,-352.7121221392678,-211.03722614499708,-299.30631880601544,-102.2681314850842,-0.0,-0.0,-0.0,-60.04616899757621,-0.0,-4.061756769135226,-0.0,-0.36776645205951847,-0.0,-0.0,-0.0,-0.0,-0.019531740058811885,-0.0020834465211927024,-0.0,-0.0,-0.0,-0.0,-0.0,-0.0,-0.0],\"type\":\"bar\"}],                        {\"template\":{\"data\":{\"barpolar\":[{\"marker\":{\"line\":{\"color\":\"rgb(17,17,17)\",\"width\":0.5},\"pattern\":{\"fillmode\":\"overlay\",\"size\":10,\"solidity\":0.2}},\"type\":\"barpolar\"}],\"bar\":[{\"error_x\":{\"color\":\"#f2f5fa\"},\"error_y\":{\"color\":\"#f2f5fa\"},\"marker\":{\"line\":{\"color\":\"rgb(17,17,17)\",\"width\":0.5},\"pattern\":{\"fillmode\":\"overlay\",\"size\":10,\"solidity\":0.2}},\"type\":\"bar\"}],\"carpet\":[{\"aaxis\":{\"endlinecolor\":\"#A2B1C6\",\"gridcolor\":\"#506784\",\"linecolor\":\"#506784\",\"minorgridcolor\":\"#506784\",\"startlinecolor\":\"#A2B1C6\"},\"baxis\":{\"endlinecolor\":\"#A2B1C6\",\"gridcolor\":\"#506784\",\"linecolor\":\"#506784\",\"minorgridcolor\":\"#506784\",\"startlinecolor\":\"#A2B1C6\"},\"type\":\"carpet\"}],\"choropleth\":[{\"colorbar\":{\"outlinewidth\":0,\"ticks\":\"\"},\"type\":\"choropleth\"}],\"contourcarpet\":[{\"colorbar\":{\"outlinewidth\":0,\"ticks\":\"\"},\"type\":\"contourcarpet\"}],\"contour\":[{\"colorbar\":{\"outlinewidth\":0,\"ticks\":\"\"},\"colorscale\":[[0.0,\"#0d0887\"],[0.1111111111111111,\"#46039f\"],[0.2222222222222222,\"#7201a8\"],[0.3333333333333333,\"#9c179e\"],[0.4444444444444444,\"#bd3786\"],[0.5555555555555556,\"#d8576b\"],[0.6666666666666666,\"#ed7953\"],[0.7777777777777778,\"#fb9f3a\"],[0.8888888888888888,\"#fdca26\"],[1.0,\"#f0f921\"]],\"type\":\"contour\"}],\"heatmapgl\":[{\"colorbar\":{\"outlinewidth\":0,\"ticks\":\"\"},\"colorscale\":[[0.0,\"#0d0887\"],[0.1111111111111111,\"#46039f\"],[0.2222222222222222,\"#7201a8\"],[0.3333333333333333,\"#9c179e\"],[0.4444444444444444,\"#bd3786\"],[0.5555555555555556,\"#d8576b\"],[0.6666666666666666,\"#ed7953\"],[0.7777777777777778,\"#fb9f3a\"],[0.8888888888888888,\"#fdca26\"],[1.0,\"#f0f921\"]],\"type\":\"heatmapgl\"}],\"heatmap\":[{\"colorbar\":{\"outlinewidth\":0,\"ticks\":\"\"},\"colorscale\":[[0.0,\"#0d0887\"],[0.1111111111111111,\"#46039f\"],[0.2222222222222222,\"#7201a8\"],[0.3333333333333333,\"#9c179e\"],[0.4444444444444444,\"#bd3786\"],[0.5555555555555556,\"#d8576b\"],[0.6666666666666666,\"#ed7953\"],[0.7777777777777778,\"#fb9f3a\"],[0.8888888888888888,\"#fdca26\"],[1.0,\"#f0f921\"]],\"type\":\"heatmap\"}],\"histogram2dcontour\":[{\"colorbar\":{\"outlinewidth\":0,\"ticks\":\"\"},\"colorscale\":[[0.0,\"#0d0887\"],[0.1111111111111111,\"#46039f\"],[0.2222222222222222,\"#7201a8\"],[0.3333333333333333,\"#9c179e\"],[0.4444444444444444,\"#bd3786\"],[0.5555555555555556,\"#d8576b\"],[0.6666666666666666,\"#ed7953\"],[0.7777777777777778,\"#fb9f3a\"],[0.8888888888888888,\"#fdca26\"],[1.0,\"#f0f921\"]],\"type\":\"histogram2dcontour\"}],\"histogram2d\":[{\"colorbar\":{\"outlinewidth\":0,\"ticks\":\"\"},\"colorscale\":[[0.0,\"#0d0887\"],[0.1111111111111111,\"#46039f\"],[0.2222222222222222,\"#7201a8\"],[0.3333333333333333,\"#9c179e\"],[0.4444444444444444,\"#bd3786\"],[0.5555555555555556,\"#d8576b\"],[0.6666666666666666,\"#ed7953\"],[0.7777777777777778,\"#fb9f3a\"],[0.8888888888888888,\"#fdca26\"],[1.0,\"#f0f921\"]],\"type\":\"histogram2d\"}],\"histogram\":[{\"marker\":{\"pattern\":{\"fillmode\":\"overlay\",\"size\":10,\"solidity\":0.2}},\"type\":\"histogram\"}],\"mesh3d\":[{\"colorbar\":{\"outlinewidth\":0,\"ticks\":\"\"},\"type\":\"mesh3d\"}],\"parcoords\":[{\"line\":{\"colorbar\":{\"outlinewidth\":0,\"ticks\":\"\"}},\"type\":\"parcoords\"}],\"pie\":[{\"automargin\":true,\"type\":\"pie\"}],\"scatter3d\":[{\"line\":{\"colorbar\":{\"outlinewidth\":0,\"ticks\":\"\"}},\"marker\":{\"colorbar\":{\"outlinewidth\":0,\"ticks\":\"\"}},\"type\":\"scatter3d\"}],\"scattercarpet\":[{\"marker\":{\"colorbar\":{\"outlinewidth\":0,\"ticks\":\"\"}},\"type\":\"scattercarpet\"}],\"scattergeo\":[{\"marker\":{\"colorbar\":{\"outlinewidth\":0,\"ticks\":\"\"}},\"type\":\"scattergeo\"}],\"scattergl\":[{\"marker\":{\"line\":{\"color\":\"#283442\"}},\"type\":\"scattergl\"}],\"scattermapbox\":[{\"marker\":{\"colorbar\":{\"outlinewidth\":0,\"ticks\":\"\"}},\"type\":\"scattermapbox\"}],\"scatterpolargl\":[{\"marker\":{\"colorbar\":{\"outlinewidth\":0,\"ticks\":\"\"}},\"type\":\"scatterpolargl\"}],\"scatterpolar\":[{\"marker\":{\"colorbar\":{\"outlinewidth\":0,\"ticks\":\"\"}},\"type\":\"scatterpolar\"}],\"scatter\":[{\"marker\":{\"line\":{\"color\":\"#283442\"}},\"type\":\"scatter\"}],\"scatterternary\":[{\"marker\":{\"colorbar\":{\"outlinewidth\":0,\"ticks\":\"\"}},\"type\":\"scatterternary\"}],\"surface\":[{\"colorbar\":{\"outlinewidth\":0,\"ticks\":\"\"},\"colorscale\":[[0.0,\"#0d0887\"],[0.1111111111111111,\"#46039f\"],[0.2222222222222222,\"#7201a8\"],[0.3333333333333333,\"#9c179e\"],[0.4444444444444444,\"#bd3786\"],[0.5555555555555556,\"#d8576b\"],[0.6666666666666666,\"#ed7953\"],[0.7777777777777778,\"#fb9f3a\"],[0.8888888888888888,\"#fdca26\"],[1.0,\"#f0f921\"]],\"type\":\"surface\"}],\"table\":[{\"cells\":{\"fill\":{\"color\":\"#506784\"},\"line\":{\"color\":\"rgb(17,17,17)\"}},\"header\":{\"fill\":{\"color\":\"#2a3f5f\"},\"line\":{\"color\":\"rgb(17,17,17)\"}},\"type\":\"table\"}],\"candlestick\":[{\"decreasing\":{\"fillcolor\":\"#e4003a\",\"line\":{\"color\":\"#e4003a\"}},\"increasing\":{\"fillcolor\":\"#00ACFF\",\"line\":{\"color\":\"#00ACFF\"}},\"type\":\"candlestick\"}]},\"layout\":{\"annotationdefaults\":{\"arrowcolor\":\"#f2f5fa\",\"arrowhead\":0,\"arrowwidth\":1,\"showarrow\":false},\"autotypenumbers\":\"strict\",\"coloraxis\":{\"colorbar\":{\"outlinewidth\":0,\"ticks\":\"\"}},\"colorscale\":{\"diverging\":[[0,\"#8e0152\"],[0.1,\"#c51b7d\"],[0.2,\"#de77ae\"],[0.3,\"#f1b6da\"],[0.4,\"#fde0ef\"],[0.5,\"#f7f7f7\"],[0.6,\"#e6f5d0\"],[0.7,\"#b8e186\"],[0.8,\"#7fbc41\"],[0.9,\"#4d9221\"],[1,\"#276419\"]],\"sequential\":[[0.0,\"#0d0887\"],[0.1111111111111111,\"#46039f\"],[0.2222222222222222,\"#7201a8\"],[0.3333333333333333,\"#9c179e\"],[0.4444444444444444,\"#bd3786\"],[0.5555555555555556,\"#d8576b\"],[0.6666666666666666,\"#ed7953\"],[0.7777777777777778,\"#fb9f3a\"],[0.8888888888888888,\"#fdca26\"],[1.0,\"#f0f921\"]],\"sequentialminus\":[[0.0,\"#0d0887\"],[0.1111111111111111,\"#46039f\"],[0.2222222222222222,\"#7201a8\"],[0.3333333333333333,\"#9c179e\"],[0.4444444444444444,\"#bd3786\"],[0.5555555555555556,\"#d8576b\"],[0.6666666666666666,\"#ed7953\"],[0.7777777777777778,\"#fb9f3a\"],[0.8888888888888888,\"#fdca26\"],[1.0,\"#f0f921\"]]},\"colorway\":[\"#ffed00\",\"#ef7d00\",\"#e4003a\",\"#c13246\",\"#822661\",\"#48277c\",\"#005ca9\",\"#00aaff\",\"#9b30d9\",\"#af005f\",\"#5f00af\",\"#af87ff\"],\"font\":{\"color\":\"#f2f5fa\",\"family\":\"Fira Code\",\"size\":18},\"geo\":{\"bgcolor\":\"rgb(17,17,17)\",\"lakecolor\":\"rgb(17,17,17)\",\"landcolor\":\"rgb(17,17,17)\",\"showlakes\":true,\"showland\":true,\"subunitcolor\":\"#506784\"},\"hoverlabel\":{\"align\":\"left\"},\"hovermode\":\"x\",\"mapbox\":{\"style\":\"dark\"},\"paper_bgcolor\":\"#000000\",\"plot_bgcolor\":\"#000000\",\"polar\":{\"angularaxis\":{\"gridcolor\":\"#506784\",\"linecolor\":\"#506784\",\"ticks\":\"\"},\"bgcolor\":\"rgb(17,17,17)\",\"radialaxis\":{\"gridcolor\":\"#506784\",\"linecolor\":\"#506784\",\"ticks\":\"\"}},\"scene\":{\"xaxis\":{\"backgroundcolor\":\"rgb(17,17,17)\",\"gridcolor\":\"#506784\",\"gridwidth\":2,\"linecolor\":\"#506784\",\"showbackground\":true,\"ticks\":\"\",\"zerolinecolor\":\"#C8D4E3\"},\"yaxis\":{\"backgroundcolor\":\"rgb(17,17,17)\",\"gridcolor\":\"#506784\",\"gridwidth\":2,\"linecolor\":\"#506784\",\"showbackground\":true,\"ticks\":\"\",\"zerolinecolor\":\"#C8D4E3\"},\"zaxis\":{\"backgroundcolor\":\"rgb(17,17,17)\",\"gridcolor\":\"#506784\",\"gridwidth\":2,\"linecolor\":\"#506784\",\"showbackground\":true,\"ticks\":\"\",\"zerolinecolor\":\"#C8D4E3\"}},\"shapedefaults\":{\"line\":{\"color\":\"#f2f5fa\"}},\"sliderdefaults\":{\"bgcolor\":\"#C8D4E3\",\"bordercolor\":\"rgb(17,17,17)\",\"borderwidth\":1,\"tickwidth\":0},\"ternary\":{\"aaxis\":{\"gridcolor\":\"#506784\",\"linecolor\":\"#506784\",\"ticks\":\"\"},\"baxis\":{\"gridcolor\":\"#506784\",\"linecolor\":\"#506784\",\"ticks\":\"\"},\"bgcolor\":\"rgb(17,17,17)\",\"caxis\":{\"gridcolor\":\"#506784\",\"linecolor\":\"#506784\",\"ticks\":\"\"}},\"title\":{\"x\":0.05},\"updatemenudefaults\":{\"bgcolor\":\"#506784\",\"borderwidth\":0},\"xaxis\":{\"automargin\":true,\"gridcolor\":\"#283442\",\"linecolor\":\"#F5EFF3\",\"ticks\":\"outside\",\"title\":{\"standoff\":20},\"zerolinecolor\":\"#283442\",\"zerolinewidth\":2,\"autorange\":true,\"mirror\":true,\"rangeslider\":{\"visible\":false},\"showgrid\":true,\"showline\":true,\"tick0\":1,\"tickfont\":{\"size\":14},\"zeroline\":false},\"yaxis\":{\"automargin\":true,\"gridcolor\":\"#283442\",\"linecolor\":\"#F5EFF3\",\"ticks\":\"outside\",\"title\":{\"standoff\":20},\"zerolinecolor\":\"#283442\",\"zerolinewidth\":2,\"anchor\":\"x\",\"fixedrange\":false,\"mirror\":true,\"showgrid\":true,\"showline\":true,\"side\":\"right\",\"tick0\":0.5,\"zeroline\":false},\"dragmode\":\"pan\",\"legend\":{\"bgcolor\":\"rgba(0, 0, 0, 0.5)\",\"font\":{\"size\":15},\"x\":0.01,\"xanchor\":\"left\",\"y\":0.99,\"yanchor\":\"top\"},\"legend2\":{\"bgcolor\":\"rgba(0, 0, 0, 0.5)\",\"font\":{\"size\":15}},\"legend3\":{\"bgcolor\":\"rgba(0, 0, 0, 0.5)\",\"font\":{\"size\":15}},\"legend4\":{\"bgcolor\":\"rgba(0, 0, 0, 0.5)\",\"font\":{\"size\":15}},\"legend5\":{\"bgcolor\":\"rgba(0, 0, 0, 0.5)\",\"font\":{\"size\":15}}}},\"margin\":{\"l\":40,\"r\":50,\"b\":80,\"t\":50},\"annotations\":[{\"font\":{\"color\":\"gray\",\"size\":17},\"opacity\":0.5,\"showarrow\":false,\"text\":\"OpenBB Terminal\",\"x\":1,\"xanchor\":\"right\",\"xref\":\"paper\",\"xshift\":40,\"y\":0,\"yanchor\":\"bottom\",\"yref\":\"paper\",\"yshift\":-80}],\"legend\":{\"orientation\":\"v\"},\"barmode\":\"overlay\",\"bargap\":0,\"bargroupgap\":0},                        {\"scrollZoom\": true, \"displaylogo\": false, \"responsive\": true}                    ).then(function(){\n",
       "                            \n",
       "var gd = document.getElementById('ecd49e6d-92ff-4d7a-b6d9-807fb11ee333');\n",
       "var x = new MutationObserver(function (mutations, observer) {{\n",
       "        var display = window.getComputedStyle(gd).display;\n",
       "        if (!display || display === 'none') {{\n",
       "            console.log([gd, 'removed!']);\n",
       "            Plotly.purge(gd);\n",
       "            observer.disconnect();\n",
       "        }}\n",
       "}});\n",
       "\n",
       "// Listen for the removal of the full notebook cells\n",
       "var notebookContainer = gd.closest('#notebook-container');\n",
       "if (notebookContainer) {{\n",
       "    x.observe(notebookContainer, {childList: true});\n",
       "}}\n",
       "\n",
       "// Listen for the clearing of the current output cell\n",
       "var outputEl = gd.closest('.output');\n",
       "if (outputEl) {{\n",
       "    x.observe(outputEl, {childList: true});\n",
       "}}\n",
       "\n",
       "                        })                };                });            </script>        </div>"
      ]
     },
     "metadata": {},
     "output_type": "display_data"
    }
   ],
   "source": [
    "option_absolute_plot = OpenBBFigure()\n",
    "option_absolute_plot.add_bar(\n",
    "    x=total_gex['Strike'],\n",
    "    y=total_gex['CALL'],\n",
    "    name='CALL',\n",
    "    marker_color=\"green\",\n",
    "    width=0.8\n",
    ")\n",
    "\n",
    "option_absolute_plot.add_bar(\n",
    "    x=total_gex['Strike'],\n",
    "    y=total_gex['PUT'],\n",
    "    name='PUT',\n",
    "    marker_color=\"red\",\n",
    "    width=0.8\n",
    ")\n",
    "option_absolute_plot.show()"
   ]
  },
  {
   "cell_type": "code",
   "execution_count": null,
   "id": "3aef6e41-c58e-4195-a286-d194ac222952",
   "metadata": {},
   "outputs": [],
   "source": []
  }
 ],
 "metadata": {
  "celltoolbar": "Tags",
  "kernelspec": {
   "display_name": "Python 3 (ipykernel)",
   "language": "python",
   "name": "python3"
  },
  "language_info": {
   "codemirror_mode": {
    "name": "ipython",
    "version": 3
   },
   "file_extension": ".py",
   "mimetype": "text/x-python",
   "name": "python",
   "nbconvert_exporter": "python",
   "pygments_lexer": "ipython3",
   "version": "3.10.13"
  },
  "vscode": {
   "interpreter": {
    "hash": "5884d32f23cebd85614e61b7b7ae47cd3ddb4b608302151a537f0a43f338bd80"
   }
  }
 },
 "nbformat": 4,
 "nbformat_minor": 5
}
