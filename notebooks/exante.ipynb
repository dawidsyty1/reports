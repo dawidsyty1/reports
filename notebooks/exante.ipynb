{
 "cells": [
  {
   "cell_type": "code",
   "execution_count": 42,
   "id": "999086c3-fdda-4478-8d06-29e84e1048a9",
   "metadata": {},
   "outputs": [],
   "source": [
    "import pandas as pd\n",
    "import numpy as np\n",
    "from openbb_terminal import OpenBBFigure"
   ]
  },
  {
   "cell_type": "code",
   "execution_count": 72,
   "id": "1af8857d-6808-4923-8a07-9a741c3814ba",
   "metadata": {
    "tags": []
   },
   "outputs": [],
   "source": [
    "dataframe = pd.read_csv('option-board-SPY_CBOE_24X20238183113097745551650.csv')\n",
    "\n",
    "dataframe['OI CALL'] = dataframe['Open Interest']\n",
    "dataframe['OI PUT'] = dataframe['Open Interest.1']\n",
    "\n",
    "dataframe[\"GEX PUT\"] = 0\n",
    "dataframe[\"GEX CALL\"] = 0"
   ]
  },
  {
   "cell_type": "code",
   "execution_count": 73,
   "id": "9def059d-1166-42bf-8a4c-f80995ff9e12",
   "metadata": {
    "tags": []
   },
   "outputs": [
    {
     "data": {
      "text/plain": [
       "0         NaN\n",
       "1         NaN\n",
       "2         NaN\n",
       "3         NaN\n",
       "4         NaN\n",
       "        ...  \n",
       "153    2174.0\n",
       "154     587.0\n",
       "155    1443.0\n",
       "156    1879.0\n",
       "157    2495.0\n",
       "Name: Open Interest.1, Length: 158, dtype: float64"
      ]
     },
     "execution_count": 73,
     "metadata": {},
     "output_type": "execute_result"
    }
   ],
   "source": [
    "dataframe['Open Interest.1']"
   ]
  },
  {
   "cell_type": "code",
   "execution_count": 74,
   "id": "72bee2c0-fce6-49dc-8db6-fed668af75ec",
   "metadata": {
    "tags": []
   },
   "outputs": [],
   "source": [
    "for index, row in dataframe.iterrows():\n",
    "    dataframe.at[index, \"GEX PUT\"] = -(float(row['OI PUT']) * float(row['Gamma']) * (100))\n",
    "    dataframe.at[index, \"GEX CALL\"] = float(row['OI CALL']) * float(row['Gamma']) * (100)"
   ]
  },
  {
   "cell_type": "code",
   "execution_count": null,
   "id": "1910f3d0-7650-46ff-b849-9519f118b4e8",
   "metadata": {
    "tags": []
   },
   "outputs": [],
   "source": []
  },
  {
   "cell_type": "code",
   "execution_count": 80,
   "id": "771d5e58-51df-47c1-9294-6b52394f303b",
   "metadata": {
    "tags": []
   },
   "outputs": [
    {
     "data": {
      "application/vnd.plotly.v1+json": {
       "config": {
        "displaylogo": false,
        "plotlyServerURL": "https://plot.ly",
        "scrollZoom": true
       },
       "data": [
        {
         "marker": {
          "color": "lightgreen",
          "line": {
           "width": 0.15
          }
         },
         "name": "Example",
         "type": "bar",
         "width": 0.8,
         "x": [
          540,
          530,
          525,
          520,
          515,
          510,
          505,
          500,
          499,
          498,
          497,
          496,
          495,
          494,
          493,
          492,
          491,
          490,
          489,
          488,
          487,
          486,
          485,
          484,
          483,
          482,
          481,
          480,
          479,
          478,
          477,
          476,
          475,
          474,
          473,
          472,
          471,
          470,
          469,
          468,
          467,
          466,
          465,
          464,
          463,
          462,
          461,
          460,
          459,
          458,
          457,
          456,
          455,
          454,
          453,
          452,
          451,
          450,
          449,
          448,
          447.5,
          447,
          446,
          445,
          444,
          443,
          442,
          441,
          440,
          439,
          438,
          437,
          436,
          435,
          434,
          433,
          432.5,
          432,
          431,
          430,
          429,
          428,
          427.5,
          427,
          426,
          425,
          424,
          423,
          422.5,
          422,
          421,
          420,
          419,
          418,
          417.5,
          417,
          416,
          415,
          414,
          413,
          412.5,
          412,
          411,
          410,
          409,
          408,
          407,
          406,
          405,
          404,
          403,
          402,
          401,
          400,
          399,
          398,
          397,
          396,
          395,
          394,
          393,
          392,
          391,
          390,
          389,
          388,
          387,
          386,
          385,
          384,
          383,
          382,
          381,
          380,
          379,
          378,
          377,
          376,
          375,
          374,
          373,
          372,
          371,
          370,
          365,
          360,
          355,
          350,
          345,
          340,
          335,
          330,
          325,
          320,
          315,
          310,
          305,
          300
         ],
         "y": [
          0.052500000000000005,
          null,
          null,
          null,
          0.7298,
          1.2852000000000001,
          null,
          49.09479999999999,
          null,
          null,
          null,
          null,
          null,
          null,
          null,
          null,
          null,
          8.1192,
          null,
          null,
          null,
          12.4968,
          21.2487,
          0,
          0.9757999999999999,
          null,
          0,
          167.66219999999998,
          5.5825,
          23.19,
          0.826,
          1349.839,
          718.4639999999999,
          4.7518,
          14.055299999999999,
          130.626,
          7.641500000000001,
          254.3603,
          216.3304,
          543.1516999999999,
          475.551,
          550.1898,
          4857.338,
          10601.283599999999,
          3300.615,
          4265.7544,
          4309.0944,
          48513.6846,
          15928.4468,
          27380.8944,
          44339.8566,
          124472.3606,
          143919.3276,
          82709.8272,
          47224.5,
          60722.622,
          64245.549900000005,
          106022.60999999999,
          33366.583,
          21223.2592,
          7624.2384,
          8024.4436,
          8639.8488,
          6808.242,
          4111.9974,
          3465.6345,
          4782.888,
          4419.778499999999,
          3327.6432,
          2265.9096,
          2211.2889,
          2345.8217,
          1669.437,
          1152.693,
          1043.3382,
          494.34,
          413.67389999999995,
          593.7673,
          455.8178,
          1174.4635,
          272.5056,
          205.5992,
          171.475,
          265.1716,
          353.4093,
          529.4159999999999,
          162.6093,
          166.6867,
          90.1824,
          212.94239999999996,
          148.2995,
          363.4429,
          138.1072,
          76.53450000000001,
          59.048199999999994,
          78.546,
          77.4165,
          179.55,
          78.69,
          84.7278,
          49.126,
          58.075199999999995,
          30.331200000000003,
          86.655,
          25.3655,
          15.643299999999998,
          1.9844,
          6.8968,
          125.72000000000001,
          null,
          6.688000000000001,
          15.5944,
          null,
          222.8824,
          null,
          0.6707000000000001,
          null,
          0.2184,
          3.6995,
          null,
          0.7100000000000001,
          null,
          null,
          null,
          null,
          0.0369,
          null,
          null,
          1.1864999999999999,
          null,
          null,
          0.0208,
          null,
          0.792,
          null,
          null,
          null,
          null,
          0.28709999999999997,
          null,
          null,
          null,
          null,
          0.0077,
          null,
          0.024800000000000003,
          0.364,
          null,
          null,
          0.0042,
          null,
          0.010499999999999999,
          0,
          0.009000000000000001,
          null,
          0.025,
          null,
          0.2222
         ]
        },
        {
         "marker": {
          "color": "pink",
          "line": {
           "width": 0.15
          }
         },
         "name": "Example",
         "type": "bar",
         "width": 0.8,
         "x": [
          540,
          530,
          525,
          520,
          515,
          510,
          505,
          500,
          499,
          498,
          497,
          496,
          495,
          494,
          493,
          492,
          491,
          490,
          489,
          488,
          487,
          486,
          485,
          484,
          483,
          482,
          481,
          480,
          479,
          478,
          477,
          476,
          475,
          474,
          473,
          472,
          471,
          470,
          469,
          468,
          467,
          466,
          465,
          464,
          463,
          462,
          461,
          460,
          459,
          458,
          457,
          456,
          455,
          454,
          453,
          452,
          451,
          450,
          449,
          448,
          447.5,
          447,
          446,
          445,
          444,
          443,
          442,
          441,
          440,
          439,
          438,
          437,
          436,
          435,
          434,
          433,
          432.5,
          432,
          431,
          430,
          429,
          428,
          427.5,
          427,
          426,
          425,
          424,
          423,
          422.5,
          422,
          421,
          420,
          419,
          418,
          417.5,
          417,
          416,
          415,
          414,
          413,
          412.5,
          412,
          411,
          410,
          409,
          408,
          407,
          406,
          405,
          404,
          403,
          402,
          401,
          400,
          399,
          398,
          397,
          396,
          395,
          394,
          393,
          392,
          391,
          390,
          389,
          388,
          387,
          386,
          385,
          384,
          383,
          382,
          381,
          380,
          379,
          378,
          377,
          376,
          375,
          374,
          373,
          372,
          371,
          370,
          365,
          360,
          355,
          350,
          345,
          340,
          335,
          330,
          325,
          320,
          315,
          310,
          305,
          300
         ],
         "y": [
          null,
          null,
          null,
          null,
          null,
          null,
          null,
          null,
          null,
          null,
          null,
          null,
          null,
          null,
          null,
          null,
          null,
          null,
          null,
          null,
          null,
          null,
          null,
          null,
          0,
          null,
          null,
          null,
          null,
          null,
          null,
          null,
          null,
          null,
          null,
          null,
          null,
          0.2902,
          null,
          null,
          null,
          null,
          1.4961,
          0,
          0,
          1.4884,
          29.952,
          53665.3838,
          158.05089999999998,
          1115.6300999999999,
          1763.3030999999999,
          6225.8389,
          37726.5972,
          75803.20800000001,
          64470.88740000001,
          65101.914,
          76076.4732,
          214643.28999999998,
          132386.8585,
          114493.1996,
          15044.7024,
          27623.3768,
          31766.716800000002,
          34503.6195,
          92538.31229999999,
          14517.862500000001,
          7749.043499999999,
          17348.859,
          15739.1234,
          3224.8016,
          6090.0242,
          2997.8713,
          2522.8665,
          5198.196,
          3174.1402000000003,
          1699.1599999999999,
          984.693,
          1961.5835999999997,
          1065.563,
          2573.956,
          579.0744,
          666.38,
          781.0235,
          552.7176,
          501.93649999999997,
          1211.1552,
          223.53300000000002,
          1116.4004,
          165.31199999999998,
          271.1484,
          1956.5605999999998,
          2316.4653,
          244.4901,
          607.8471000000001,
          197.1558,
          603.9150000000001,
          311.3628,
          829.5075,
          224.07299999999998,
          533.4576,
          89.1165,
          139.4752,
          550.5056000000001,
          508.1035,
          98.3763,
          159.35039999999998,
          78.7952,
          65.28659999999999,
          465.4783,
          179.1754,
          102.4936,
          123.54320000000001,
          4.212,
          391.9292,
          8.6505,
          19.3091,
          0.855,
          37.0968,
          107.663,
          22.2999,
          7.313,
          57.2562,
          2.6264000000000003,
          103.98699999999998,
          11.34,
          15.485700000000001,
          0,
          8.8624,
          60.7375,
          7.37,
          16.1784,
          19.915999999999997,
          0.0505,
          377.10089999999997,
          0.009600000000000001,
          6.354399999999999,
          3.1122,
          0.2848,
          30.3369,
          0,
          1.3695,
          0.2349,
          1.9908,
          24.4783,
          496.83449999999993,
          229.77820000000003,
          20.2104,
          182.22,
          365.2446,
          25.956000000000003,
          2.0368,
          124.7855,
          5.3152,
          6.522,
          1.6436,
          3.6075000000000004,
          4.509600000000001,
          5.489
         ]
        }
       ],
       "layout": {
        "annotations": [
         {
          "font": {
           "color": "gray",
           "size": 17
          },
          "opacity": 0.5,
          "showarrow": false,
          "text": "OpenBB Terminal",
          "x": 1,
          "xanchor": "right",
          "xref": "paper",
          "xshift": 40,
          "y": 0,
          "yanchor": "bottom",
          "yref": "paper",
          "yshift": -80
         }
        ],
        "autosize": true,
        "bargap": 0,
        "bargroupgap": 0,
        "barmode": "overlay",
        "legend": {
         "orientation": "v"
        },
        "margin": {
         "b": 80,
         "l": 40,
         "r": 50,
         "t": 50
        },
        "template": {
         "data": {
          "bar": [
           {
            "error_x": {
             "color": "#f2f5fa"
            },
            "error_y": {
             "color": "#f2f5fa"
            },
            "marker": {
             "line": {
              "color": "rgb(17,17,17)",
              "width": 0.5
             },
             "pattern": {
              "fillmode": "overlay",
              "size": 10,
              "solidity": 0.2
             }
            },
            "type": "bar"
           }
          ],
          "barpolar": [
           {
            "marker": {
             "line": {
              "color": "rgb(17,17,17)",
              "width": 0.5
             },
             "pattern": {
              "fillmode": "overlay",
              "size": 10,
              "solidity": 0.2
             }
            },
            "type": "barpolar"
           }
          ],
          "candlestick": [
           {
            "decreasing": {
             "fillcolor": "#e4003a",
             "line": {
              "color": "#e4003a"
             }
            },
            "increasing": {
             "fillcolor": "#00ACFF",
             "line": {
              "color": "#00ACFF"
             }
            },
            "type": "candlestick"
           }
          ],
          "carpet": [
           {
            "aaxis": {
             "endlinecolor": "#A2B1C6",
             "gridcolor": "#506784",
             "linecolor": "#506784",
             "minorgridcolor": "#506784",
             "startlinecolor": "#A2B1C6"
            },
            "baxis": {
             "endlinecolor": "#A2B1C6",
             "gridcolor": "#506784",
             "linecolor": "#506784",
             "minorgridcolor": "#506784",
             "startlinecolor": "#A2B1C6"
            },
            "type": "carpet"
           }
          ],
          "choropleth": [
           {
            "colorbar": {
             "outlinewidth": 0,
             "ticks": ""
            },
            "type": "choropleth"
           }
          ],
          "contour": [
           {
            "colorbar": {
             "outlinewidth": 0,
             "ticks": ""
            },
            "colorscale": [
             [
              0,
              "#0d0887"
             ],
             [
              0.1111111111111111,
              "#46039f"
             ],
             [
              0.2222222222222222,
              "#7201a8"
             ],
             [
              0.3333333333333333,
              "#9c179e"
             ],
             [
              0.4444444444444444,
              "#bd3786"
             ],
             [
              0.5555555555555556,
              "#d8576b"
             ],
             [
              0.6666666666666666,
              "#ed7953"
             ],
             [
              0.7777777777777778,
              "#fb9f3a"
             ],
             [
              0.8888888888888888,
              "#fdca26"
             ],
             [
              1,
              "#f0f921"
             ]
            ],
            "type": "contour"
           }
          ],
          "contourcarpet": [
           {
            "colorbar": {
             "outlinewidth": 0,
             "ticks": ""
            },
            "type": "contourcarpet"
           }
          ],
          "heatmap": [
           {
            "colorbar": {
             "outlinewidth": 0,
             "ticks": ""
            },
            "colorscale": [
             [
              0,
              "#0d0887"
             ],
             [
              0.1111111111111111,
              "#46039f"
             ],
             [
              0.2222222222222222,
              "#7201a8"
             ],
             [
              0.3333333333333333,
              "#9c179e"
             ],
             [
              0.4444444444444444,
              "#bd3786"
             ],
             [
              0.5555555555555556,
              "#d8576b"
             ],
             [
              0.6666666666666666,
              "#ed7953"
             ],
             [
              0.7777777777777778,
              "#fb9f3a"
             ],
             [
              0.8888888888888888,
              "#fdca26"
             ],
             [
              1,
              "#f0f921"
             ]
            ],
            "type": "heatmap"
           }
          ],
          "heatmapgl": [
           {
            "colorbar": {
             "outlinewidth": 0,
             "ticks": ""
            },
            "colorscale": [
             [
              0,
              "#0d0887"
             ],
             [
              0.1111111111111111,
              "#46039f"
             ],
             [
              0.2222222222222222,
              "#7201a8"
             ],
             [
              0.3333333333333333,
              "#9c179e"
             ],
             [
              0.4444444444444444,
              "#bd3786"
             ],
             [
              0.5555555555555556,
              "#d8576b"
             ],
             [
              0.6666666666666666,
              "#ed7953"
             ],
             [
              0.7777777777777778,
              "#fb9f3a"
             ],
             [
              0.8888888888888888,
              "#fdca26"
             ],
             [
              1,
              "#f0f921"
             ]
            ],
            "type": "heatmapgl"
           }
          ],
          "histogram": [
           {
            "marker": {
             "pattern": {
              "fillmode": "overlay",
              "size": 10,
              "solidity": 0.2
             }
            },
            "type": "histogram"
           }
          ],
          "histogram2d": [
           {
            "colorbar": {
             "outlinewidth": 0,
             "ticks": ""
            },
            "colorscale": [
             [
              0,
              "#0d0887"
             ],
             [
              0.1111111111111111,
              "#46039f"
             ],
             [
              0.2222222222222222,
              "#7201a8"
             ],
             [
              0.3333333333333333,
              "#9c179e"
             ],
             [
              0.4444444444444444,
              "#bd3786"
             ],
             [
              0.5555555555555556,
              "#d8576b"
             ],
             [
              0.6666666666666666,
              "#ed7953"
             ],
             [
              0.7777777777777778,
              "#fb9f3a"
             ],
             [
              0.8888888888888888,
              "#fdca26"
             ],
             [
              1,
              "#f0f921"
             ]
            ],
            "type": "histogram2d"
           }
          ],
          "histogram2dcontour": [
           {
            "colorbar": {
             "outlinewidth": 0,
             "ticks": ""
            },
            "colorscale": [
             [
              0,
              "#0d0887"
             ],
             [
              0.1111111111111111,
              "#46039f"
             ],
             [
              0.2222222222222222,
              "#7201a8"
             ],
             [
              0.3333333333333333,
              "#9c179e"
             ],
             [
              0.4444444444444444,
              "#bd3786"
             ],
             [
              0.5555555555555556,
              "#d8576b"
             ],
             [
              0.6666666666666666,
              "#ed7953"
             ],
             [
              0.7777777777777778,
              "#fb9f3a"
             ],
             [
              0.8888888888888888,
              "#fdca26"
             ],
             [
              1,
              "#f0f921"
             ]
            ],
            "type": "histogram2dcontour"
           }
          ],
          "mesh3d": [
           {
            "colorbar": {
             "outlinewidth": 0,
             "ticks": ""
            },
            "type": "mesh3d"
           }
          ],
          "parcoords": [
           {
            "line": {
             "colorbar": {
              "outlinewidth": 0,
              "ticks": ""
             }
            },
            "type": "parcoords"
           }
          ],
          "pie": [
           {
            "automargin": true,
            "type": "pie"
           }
          ],
          "scatter": [
           {
            "marker": {
             "line": {
              "color": "#283442"
             }
            },
            "type": "scatter"
           }
          ],
          "scatter3d": [
           {
            "line": {
             "colorbar": {
              "outlinewidth": 0,
              "ticks": ""
             }
            },
            "marker": {
             "colorbar": {
              "outlinewidth": 0,
              "ticks": ""
             }
            },
            "type": "scatter3d"
           }
          ],
          "scattercarpet": [
           {
            "marker": {
             "colorbar": {
              "outlinewidth": 0,
              "ticks": ""
             }
            },
            "type": "scattercarpet"
           }
          ],
          "scattergeo": [
           {
            "marker": {
             "colorbar": {
              "outlinewidth": 0,
              "ticks": ""
             }
            },
            "type": "scattergeo"
           }
          ],
          "scattergl": [
           {
            "marker": {
             "line": {
              "color": "#283442"
             }
            },
            "type": "scattergl"
           }
          ],
          "scattermapbox": [
           {
            "marker": {
             "colorbar": {
              "outlinewidth": 0,
              "ticks": ""
             }
            },
            "type": "scattermapbox"
           }
          ],
          "scatterpolar": [
           {
            "marker": {
             "colorbar": {
              "outlinewidth": 0,
              "ticks": ""
             }
            },
            "type": "scatterpolar"
           }
          ],
          "scatterpolargl": [
           {
            "marker": {
             "colorbar": {
              "outlinewidth": 0,
              "ticks": ""
             }
            },
            "type": "scatterpolargl"
           }
          ],
          "scatterternary": [
           {
            "marker": {
             "colorbar": {
              "outlinewidth": 0,
              "ticks": ""
             }
            },
            "type": "scatterternary"
           }
          ],
          "surface": [
           {
            "colorbar": {
             "outlinewidth": 0,
             "ticks": ""
            },
            "colorscale": [
             [
              0,
              "#0d0887"
             ],
             [
              0.1111111111111111,
              "#46039f"
             ],
             [
              0.2222222222222222,
              "#7201a8"
             ],
             [
              0.3333333333333333,
              "#9c179e"
             ],
             [
              0.4444444444444444,
              "#bd3786"
             ],
             [
              0.5555555555555556,
              "#d8576b"
             ],
             [
              0.6666666666666666,
              "#ed7953"
             ],
             [
              0.7777777777777778,
              "#fb9f3a"
             ],
             [
              0.8888888888888888,
              "#fdca26"
             ],
             [
              1,
              "#f0f921"
             ]
            ],
            "type": "surface"
           }
          ],
          "table": [
           {
            "cells": {
             "fill": {
              "color": "#506784"
             },
             "line": {
              "color": "rgb(17,17,17)"
             }
            },
            "header": {
             "fill": {
              "color": "#2a3f5f"
             },
             "line": {
              "color": "rgb(17,17,17)"
             }
            },
            "type": "table"
           }
          ]
         },
         "layout": {
          "annotationdefaults": {
           "arrowcolor": "#f2f5fa",
           "arrowhead": 0,
           "arrowwidth": 1,
           "showarrow": false
          },
          "autotypenumbers": "strict",
          "coloraxis": {
           "colorbar": {
            "outlinewidth": 0,
            "ticks": ""
           }
          },
          "colorscale": {
           "diverging": [
            [
             0,
             "#8e0152"
            ],
            [
             0.1,
             "#c51b7d"
            ],
            [
             0.2,
             "#de77ae"
            ],
            [
             0.3,
             "#f1b6da"
            ],
            [
             0.4,
             "#fde0ef"
            ],
            [
             0.5,
             "#f7f7f7"
            ],
            [
             0.6,
             "#e6f5d0"
            ],
            [
             0.7,
             "#b8e186"
            ],
            [
             0.8,
             "#7fbc41"
            ],
            [
             0.9,
             "#4d9221"
            ],
            [
             1,
             "#276419"
            ]
           ],
           "sequential": [
            [
             0,
             "#0d0887"
            ],
            [
             0.1111111111111111,
             "#46039f"
            ],
            [
             0.2222222222222222,
             "#7201a8"
            ],
            [
             0.3333333333333333,
             "#9c179e"
            ],
            [
             0.4444444444444444,
             "#bd3786"
            ],
            [
             0.5555555555555556,
             "#d8576b"
            ],
            [
             0.6666666666666666,
             "#ed7953"
            ],
            [
             0.7777777777777778,
             "#fb9f3a"
            ],
            [
             0.8888888888888888,
             "#fdca26"
            ],
            [
             1,
             "#f0f921"
            ]
           ],
           "sequentialminus": [
            [
             0,
             "#0d0887"
            ],
            [
             0.1111111111111111,
             "#46039f"
            ],
            [
             0.2222222222222222,
             "#7201a8"
            ],
            [
             0.3333333333333333,
             "#9c179e"
            ],
            [
             0.4444444444444444,
             "#bd3786"
            ],
            [
             0.5555555555555556,
             "#d8576b"
            ],
            [
             0.6666666666666666,
             "#ed7953"
            ],
            [
             0.7777777777777778,
             "#fb9f3a"
            ],
            [
             0.8888888888888888,
             "#fdca26"
            ],
            [
             1,
             "#f0f921"
            ]
           ]
          },
          "colorway": [
           "#ffed00",
           "#ef7d00",
           "#e4003a",
           "#c13246",
           "#822661",
           "#48277c",
           "#005ca9",
           "#00aaff",
           "#9b30d9",
           "#af005f",
           "#5f00af",
           "#af87ff"
          ],
          "dragmode": "pan",
          "font": {
           "color": "#f2f5fa",
           "family": "Fira Code",
           "size": 18
          },
          "geo": {
           "bgcolor": "rgb(17,17,17)",
           "lakecolor": "rgb(17,17,17)",
           "landcolor": "rgb(17,17,17)",
           "showlakes": true,
           "showland": true,
           "subunitcolor": "#506784"
          },
          "hoverlabel": {
           "align": "left"
          },
          "hovermode": "x",
          "legend": {
           "bgcolor": "rgba(0, 0, 0, 0.5)",
           "font": {
            "size": 15
           },
           "x": 0.01,
           "xanchor": "left",
           "y": 0.99,
           "yanchor": "top"
          },
          "legend2": {
           "bgcolor": "rgba(0, 0, 0, 0.5)",
           "font": {
            "size": 15
           }
          },
          "legend3": {
           "bgcolor": "rgba(0, 0, 0, 0.5)",
           "font": {
            "size": 15
           }
          },
          "legend4": {
           "bgcolor": "rgba(0, 0, 0, 0.5)",
           "font": {
            "size": 15
           }
          },
          "legend5": {
           "bgcolor": "rgba(0, 0, 0, 0.5)",
           "font": {
            "size": 15
           }
          },
          "mapbox": {
           "style": "dark"
          },
          "paper_bgcolor": "#000000",
          "plot_bgcolor": "#000000",
          "polar": {
           "angularaxis": {
            "gridcolor": "#506784",
            "linecolor": "#506784",
            "ticks": ""
           },
           "bgcolor": "rgb(17,17,17)",
           "radialaxis": {
            "gridcolor": "#506784",
            "linecolor": "#506784",
            "ticks": ""
           }
          },
          "scene": {
           "xaxis": {
            "backgroundcolor": "rgb(17,17,17)",
            "gridcolor": "#506784",
            "gridwidth": 2,
            "linecolor": "#506784",
            "showbackground": true,
            "ticks": "",
            "zerolinecolor": "#C8D4E3"
           },
           "yaxis": {
            "backgroundcolor": "rgb(17,17,17)",
            "gridcolor": "#506784",
            "gridwidth": 2,
            "linecolor": "#506784",
            "showbackground": true,
            "ticks": "",
            "zerolinecolor": "#C8D4E3"
           },
           "zaxis": {
            "backgroundcolor": "rgb(17,17,17)",
            "gridcolor": "#506784",
            "gridwidth": 2,
            "linecolor": "#506784",
            "showbackground": true,
            "ticks": "",
            "zerolinecolor": "#C8D4E3"
           }
          },
          "shapedefaults": {
           "line": {
            "color": "#f2f5fa"
           }
          },
          "sliderdefaults": {
           "bgcolor": "#C8D4E3",
           "bordercolor": "rgb(17,17,17)",
           "borderwidth": 1,
           "tickwidth": 0
          },
          "ternary": {
           "aaxis": {
            "gridcolor": "#506784",
            "linecolor": "#506784",
            "ticks": ""
           },
           "baxis": {
            "gridcolor": "#506784",
            "linecolor": "#506784",
            "ticks": ""
           },
           "bgcolor": "rgb(17,17,17)",
           "caxis": {
            "gridcolor": "#506784",
            "linecolor": "#506784",
            "ticks": ""
           }
          },
          "title": {
           "x": 0.05
          },
          "updatemenudefaults": {
           "bgcolor": "#506784",
           "borderwidth": 0
          },
          "xaxis": {
           "automargin": true,
           "autorange": true,
           "gridcolor": "#283442",
           "linecolor": "#F5EFF3",
           "mirror": true,
           "rangeslider": {
            "visible": false
           },
           "showgrid": true,
           "showline": true,
           "tick0": 1,
           "tickfont": {
            "size": 14
           },
           "ticks": "outside",
           "title": {
            "standoff": 20
           },
           "zeroline": false,
           "zerolinecolor": "#283442",
           "zerolinewidth": 2
          },
          "yaxis": {
           "anchor": "x",
           "automargin": true,
           "fixedrange": false,
           "gridcolor": "#283442",
           "linecolor": "#F5EFF3",
           "mirror": true,
           "showgrid": true,
           "showline": true,
           "side": "right",
           "tick0": 0.5,
           "ticks": "outside",
           "title": {
            "standoff": 20
           },
           "zeroline": false,
           "zerolinecolor": "#283442",
           "zerolinewidth": 2
          }
         }
        },
        "xaxis": {
         "autorange": false,
         "range": [
          309.28653017271324,
          527.1713804357722
         ],
         "type": "linear"
        },
        "yaxis": {
         "autorange": false,
         "range": [
          -560.8972909196164,
          225379.40797223826
         ],
         "type": "linear"
        }
       }
      },
      "image/png": "[encoded data removed]",
      "text/html": [
       "<div>                            <div id=\"9ea15ca9-53e8-4dd0-a59c-2bffe7e6c98a\" class=\"plotly-graph-div\" style=\"height:525px; width:100%;\"></div>            <script type=\"text/javascript\">                require([\"plotly\"], function(Plotly) {                    window.PLOTLYENV=window.PLOTLYENV || {};                                    if (document.getElementById(\"9ea15ca9-53e8-4dd0-a59c-2bffe7e6c98a\")) {                    Plotly.newPlot(                        \"9ea15ca9-53e8-4dd0-a59c-2bffe7e6c98a\",                        [{\"marker\":{\"color\":\"lightgreen\",\"line\":{\"width\":0.15}},\"name\":\"Example\",\"width\":0.8,\"x\":[540.0,530.0,525.0,520.0,515.0,510.0,505.0,500.0,499.0,498.0,497.0,496.0,495.0,494.0,493.0,492.0,491.0,490.0,489.0,488.0,487.0,486.0,485.0,484.0,483.0,482.0,481.0,480.0,479.0,478.0,477.0,476.0,475.0,474.0,473.0,472.0,471.0,470.0,469.0,468.0,467.0,466.0,465.0,464.0,463.0,462.0,461.0,460.0,459.0,458.0,457.0,456.0,455.0,454.0,453.0,452.0,451.0,450.0,449.0,448.0,447.5,447.0,446.0,445.0,444.0,443.0,442.0,441.0,440.0,439.0,438.0,437.0,436.0,435.0,434.0,433.0,432.5,432.0,431.0,430.0,429.0,428.0,427.5,427.0,426.0,425.0,424.0,423.0,422.5,422.0,421.0,420.0,419.0,418.0,417.5,417.0,416.0,415.0,414.0,413.0,412.5,412.0,411.0,410.0,409.0,408.0,407.0,406.0,405.0,404.0,403.0,402.0,401.0,400.0,399.0,398.0,397.0,396.0,395.0,394.0,393.0,392.0,391.0,390.0,389.0,388.0,387.0,386.0,385.0,384.0,383.0,382.0,381.0,380.0,379.0,378.0,377.0,376.0,375.0,374.0,373.0,372.0,371.0,370.0,365.0,360.0,355.0,350.0,345.0,340.0,335.0,330.0,325.0,320.0,315.0,310.0,305.0,300.0],\"y\":[0.052500000000000005,null,null,null,0.7298,1.2852000000000001,null,49.09479999999999,null,null,null,null,null,null,null,null,null,8.1192,null,null,null,12.4968,21.2487,0.0,0.9757999999999999,null,0.0,167.66219999999998,5.5825,23.19,0.826,1349.839,718.4639999999999,4.7518,14.055299999999999,130.626,7.641500000000001,254.3603,216.3304,543.1516999999999,475.551,550.1898,4857.338,10601.283599999999,3300.615,4265.7544,4309.0944,48513.6846,15928.4468,27380.8944,44339.8566,124472.3606,143919.3276,82709.8272,47224.5,60722.622,64245.549900000005,106022.60999999999,33366.583,21223.2592,7624.2384,8024.4436,8639.8488,6808.242,4111.9974,3465.6345,4782.888,4419.778499999999,3327.6432,2265.9096,2211.2889,2345.8217,1669.437,1152.693,1043.3382,494.34,413.67389999999995,593.7673,455.8178,1174.4635,272.5056,205.5992,171.475,265.1716,353.4093,529.4159999999999,162.6093,166.6867,90.1824,212.94239999999996,148.2995,363.4429,138.1072,76.53450000000001,59.048199999999994,78.546,77.4165,179.55,78.69,84.7278,49.126,58.075199999999995,30.331200000000003,86.655,25.3655,15.643299999999998,1.9844,6.8968,125.72000000000001,null,6.688000000000001,15.5944,null,222.8824,null,0.6707000000000001,null,0.2184,3.6995,null,0.7100000000000001,null,null,null,null,0.0369,null,null,1.1864999999999999,null,null,0.0208,null,0.792,null,null,null,null,0.28709999999999997,null,null,null,null,0.0077,null,0.024800000000000003,0.364,null,null,0.0042,null,0.010499999999999999,0.0,0.009000000000000001,null,0.025,null,0.2222],\"type\":\"bar\"},{\"marker\":{\"color\":\"pink\",\"line\":{\"width\":0.15}},\"name\":\"Example\",\"width\":0.8,\"x\":[540.0,530.0,525.0,520.0,515.0,510.0,505.0,500.0,499.0,498.0,497.0,496.0,495.0,494.0,493.0,492.0,491.0,490.0,489.0,488.0,487.0,486.0,485.0,484.0,483.0,482.0,481.0,480.0,479.0,478.0,477.0,476.0,475.0,474.0,473.0,472.0,471.0,470.0,469.0,468.0,467.0,466.0,465.0,464.0,463.0,462.0,461.0,460.0,459.0,458.0,457.0,456.0,455.0,454.0,453.0,452.0,451.0,450.0,449.0,448.0,447.5,447.0,446.0,445.0,444.0,443.0,442.0,441.0,440.0,439.0,438.0,437.0,436.0,435.0,434.0,433.0,432.5,432.0,431.0,430.0,429.0,428.0,427.5,427.0,426.0,425.0,424.0,423.0,422.5,422.0,421.0,420.0,419.0,418.0,417.5,417.0,416.0,415.0,414.0,413.0,412.5,412.0,411.0,410.0,409.0,408.0,407.0,406.0,405.0,404.0,403.0,402.0,401.0,400.0,399.0,398.0,397.0,396.0,395.0,394.0,393.0,392.0,391.0,390.0,389.0,388.0,387.0,386.0,385.0,384.0,383.0,382.0,381.0,380.0,379.0,378.0,377.0,376.0,375.0,374.0,373.0,372.0,371.0,370.0,365.0,360.0,355.0,350.0,345.0,340.0,335.0,330.0,325.0,320.0,315.0,310.0,305.0,300.0],\"y\":[null,null,null,null,null,null,null,null,null,null,null,null,null,null,null,null,null,null,null,null,null,null,null,null,0.0,null,null,null,null,null,null,null,null,null,null,null,null,0.2902,null,null,null,null,1.4961,0.0,0.0,1.4884,29.952,53665.3838,158.05089999999998,1115.6300999999999,1763.3030999999999,6225.8389,37726.5972,75803.20800000001,64470.88740000001,65101.914,76076.4732,214643.28999999998,132386.8585,114493.1996,15044.7024,27623.3768,31766.716800000002,34503.6195,92538.31229999999,14517.862500000001,7749.043499999999,17348.859,15739.1234,3224.8016,6090.0242,2997.8713,2522.8665,5198.196,3174.1402000000003,1699.1599999999999,984.693,1961.5835999999997,1065.563,2573.956,579.0744,666.38,781.0235,552.7176,501.93649999999997,1211.1552,223.53300000000002,1116.4004,165.31199999999998,271.1484,1956.5605999999998,2316.4653,244.4901,607.8471000000001,197.1558,603.9150000000001,311.3628,829.5075,224.07299999999998,533.4576,89.1165,139.4752,550.5056000000001,508.1035,98.3763,159.35039999999998,78.7952,65.28659999999999,465.4783,179.1754,102.4936,123.54320000000001,4.212,391.9292,8.6505,19.3091,0.855,37.0968,107.663,22.2999,7.313,57.2562,2.6264000000000003,103.98699999999998,11.34,15.485700000000001,0.0,8.8624,60.7375,7.37,16.1784,19.915999999999997,0.0505,377.10089999999997,0.009600000000000001,6.354399999999999,3.1122,0.2848,30.3369,0.0,1.3695,0.2349,1.9908,24.4783,496.83449999999993,229.77820000000003,20.2104,182.22,365.2446,25.956000000000003,2.0368,124.7855,5.3152,6.522,1.6436,3.6075000000000004,4.509600000000001,5.489],\"type\":\"bar\"}],                        {\"template\":{\"data\":{\"barpolar\":[{\"marker\":{\"line\":{\"color\":\"rgb(17,17,17)\",\"width\":0.5},\"pattern\":{\"fillmode\":\"overlay\",\"size\":10,\"solidity\":0.2}},\"type\":\"barpolar\"}],\"bar\":[{\"error_x\":{\"color\":\"#f2f5fa\"},\"error_y\":{\"color\":\"#f2f5fa\"},\"marker\":{\"line\":{\"color\":\"rgb(17,17,17)\",\"width\":0.5},\"pattern\":{\"fillmode\":\"overlay\",\"size\":10,\"solidity\":0.2}},\"type\":\"bar\"}],\"carpet\":[{\"aaxis\":{\"endlinecolor\":\"#A2B1C6\",\"gridcolor\":\"#506784\",\"linecolor\":\"#506784\",\"minorgridcolor\":\"#506784\",\"startlinecolor\":\"#A2B1C6\"},\"baxis\":{\"endlinecolor\":\"#A2B1C6\",\"gridcolor\":\"#506784\",\"linecolor\":\"#506784\",\"minorgridcolor\":\"#506784\",\"startlinecolor\":\"#A2B1C6\"},\"type\":\"carpet\"}],\"choropleth\":[{\"colorbar\":{\"outlinewidth\":0,\"ticks\":\"\"},\"type\":\"choropleth\"}],\"contourcarpet\":[{\"colorbar\":{\"outlinewidth\":0,\"ticks\":\"\"},\"type\":\"contourcarpet\"}],\"contour\":[{\"colorbar\":{\"outlinewidth\":0,\"ticks\":\"\"},\"colorscale\":[[0.0,\"#0d0887\"],[0.1111111111111111,\"#46039f\"],[0.2222222222222222,\"#7201a8\"],[0.3333333333333333,\"#9c179e\"],[0.4444444444444444,\"#bd3786\"],[0.5555555555555556,\"#d8576b\"],[0.6666666666666666,\"#ed7953\"],[0.7777777777777778,\"#fb9f3a\"],[0.8888888888888888,\"#fdca26\"],[1.0,\"#f0f921\"]],\"type\":\"contour\"}],\"heatmapgl\":[{\"colorbar\":{\"outlinewidth\":0,\"ticks\":\"\"},\"colorscale\":[[0.0,\"#0d0887\"],[0.1111111111111111,\"#46039f\"],[0.2222222222222222,\"#7201a8\"],[0.3333333333333333,\"#9c179e\"],[0.4444444444444444,\"#bd3786\"],[0.5555555555555556,\"#d8576b\"],[0.6666666666666666,\"#ed7953\"],[0.7777777777777778,\"#fb9f3a\"],[0.8888888888888888,\"#fdca26\"],[1.0,\"#f0f921\"]],\"type\":\"heatmapgl\"}],\"heatmap\":[{\"colorbar\":{\"outlinewidth\":0,\"ticks\":\"\"},\"colorscale\":[[0.0,\"#0d0887\"],[0.1111111111111111,\"#46039f\"],[0.2222222222222222,\"#7201a8\"],[0.3333333333333333,\"#9c179e\"],[0.4444444444444444,\"#bd3786\"],[0.5555555555555556,\"#d8576b\"],[0.6666666666666666,\"#ed7953\"],[0.7777777777777778,\"#fb9f3a\"],[0.8888888888888888,\"#fdca26\"],[1.0,\"#f0f921\"]],\"type\":\"heatmap\"}],\"histogram2dcontour\":[{\"colorbar\":{\"outlinewidth\":0,\"ticks\":\"\"},\"colorscale\":[[0.0,\"#0d0887\"],[0.1111111111111111,\"#46039f\"],[0.2222222222222222,\"#7201a8\"],[0.3333333333333333,\"#9c179e\"],[0.4444444444444444,\"#bd3786\"],[0.5555555555555556,\"#d8576b\"],[0.6666666666666666,\"#ed7953\"],[0.7777777777777778,\"#fb9f3a\"],[0.8888888888888888,\"#fdca26\"],[1.0,\"#f0f921\"]],\"type\":\"histogram2dcontour\"}],\"histogram2d\":[{\"colorbar\":{\"outlinewidth\":0,\"ticks\":\"\"},\"colorscale\":[[0.0,\"#0d0887\"],[0.1111111111111111,\"#46039f\"],[0.2222222222222222,\"#7201a8\"],[0.3333333333333333,\"#9c179e\"],[0.4444444444444444,\"#bd3786\"],[0.5555555555555556,\"#d8576b\"],[0.6666666666666666,\"#ed7953\"],[0.7777777777777778,\"#fb9f3a\"],[0.8888888888888888,\"#fdca26\"],[1.0,\"#f0f921\"]],\"type\":\"histogram2d\"}],\"histogram\":[{\"marker\":{\"pattern\":{\"fillmode\":\"overlay\",\"size\":10,\"solidity\":0.2}},\"type\":\"histogram\"}],\"mesh3d\":[{\"colorbar\":{\"outlinewidth\":0,\"ticks\":\"\"},\"type\":\"mesh3d\"}],\"parcoords\":[{\"line\":{\"colorbar\":{\"outlinewidth\":0,\"ticks\":\"\"}},\"type\":\"parcoords\"}],\"pie\":[{\"automargin\":true,\"type\":\"pie\"}],\"scatter3d\":[{\"line\":{\"colorbar\":{\"outlinewidth\":0,\"ticks\":\"\"}},\"marker\":{\"colorbar\":{\"outlinewidth\":0,\"ticks\":\"\"}},\"type\":\"scatter3d\"}],\"scattercarpet\":[{\"marker\":{\"colorbar\":{\"outlinewidth\":0,\"ticks\":\"\"}},\"type\":\"scattercarpet\"}],\"scattergeo\":[{\"marker\":{\"colorbar\":{\"outlinewidth\":0,\"ticks\":\"\"}},\"type\":\"scattergeo\"}],\"scattergl\":[{\"marker\":{\"line\":{\"color\":\"#283442\"}},\"type\":\"scattergl\"}],\"scattermapbox\":[{\"marker\":{\"colorbar\":{\"outlinewidth\":0,\"ticks\":\"\"}},\"type\":\"scattermapbox\"}],\"scatterpolargl\":[{\"marker\":{\"colorbar\":{\"outlinewidth\":0,\"ticks\":\"\"}},\"type\":\"scatterpolargl\"}],\"scatterpolar\":[{\"marker\":{\"colorbar\":{\"outlinewidth\":0,\"ticks\":\"\"}},\"type\":\"scatterpolar\"}],\"scatter\":[{\"marker\":{\"line\":{\"color\":\"#283442\"}},\"type\":\"scatter\"}],\"scatterternary\":[{\"marker\":{\"colorbar\":{\"outlinewidth\":0,\"ticks\":\"\"}},\"type\":\"scatterternary\"}],\"surface\":[{\"colorbar\":{\"outlinewidth\":0,\"ticks\":\"\"},\"colorscale\":[[0.0,\"#0d0887\"],[0.1111111111111111,\"#46039f\"],[0.2222222222222222,\"#7201a8\"],[0.3333333333333333,\"#9c179e\"],[0.4444444444444444,\"#bd3786\"],[0.5555555555555556,\"#d8576b\"],[0.6666666666666666,\"#ed7953\"],[0.7777777777777778,\"#fb9f3a\"],[0.8888888888888888,\"#fdca26\"],[1.0,\"#f0f921\"]],\"type\":\"surface\"}],\"table\":[{\"cells\":{\"fill\":{\"color\":\"#506784\"},\"line\":{\"color\":\"rgb(17,17,17)\"}},\"header\":{\"fill\":{\"color\":\"#2a3f5f\"},\"line\":{\"color\":\"rgb(17,17,17)\"}},\"type\":\"table\"}],\"candlestick\":[{\"decreasing\":{\"fillcolor\":\"#e4003a\",\"line\":{\"color\":\"#e4003a\"}},\"increasing\":{\"fillcolor\":\"#00ACFF\",\"line\":{\"color\":\"#00ACFF\"}},\"type\":\"candlestick\"}]},\"layout\":{\"annotationdefaults\":{\"arrowcolor\":\"#f2f5fa\",\"arrowhead\":0,\"arrowwidth\":1,\"showarrow\":false},\"autotypenumbers\":\"strict\",\"coloraxis\":{\"colorbar\":{\"outlinewidth\":0,\"ticks\":\"\"}},\"colorscale\":{\"diverging\":[[0,\"#8e0152\"],[0.1,\"#c51b7d\"],[0.2,\"#de77ae\"],[0.3,\"#f1b6da\"],[0.4,\"#fde0ef\"],[0.5,\"#f7f7f7\"],[0.6,\"#e6f5d0\"],[0.7,\"#b8e186\"],[0.8,\"#7fbc41\"],[0.9,\"#4d9221\"],[1,\"#276419\"]],\"sequential\":[[0.0,\"#0d0887\"],[0.1111111111111111,\"#46039f\"],[0.2222222222222222,\"#7201a8\"],[0.3333333333333333,\"#9c179e\"],[0.4444444444444444,\"#bd3786\"],[0.5555555555555556,\"#d8576b\"],[0.6666666666666666,\"#ed7953\"],[0.7777777777777778,\"#fb9f3a\"],[0.8888888888888888,\"#fdca26\"],[1.0,\"#f0f921\"]],\"sequentialminus\":[[0.0,\"#0d0887\"],[0.1111111111111111,\"#46039f\"],[0.2222222222222222,\"#7201a8\"],[0.3333333333333333,\"#9c179e\"],[0.4444444444444444,\"#bd3786\"],[0.5555555555555556,\"#d8576b\"],[0.6666666666666666,\"#ed7953\"],[0.7777777777777778,\"#fb9f3a\"],[0.8888888888888888,\"#fdca26\"],[1.0,\"#f0f921\"]]},\"colorway\":[\"#ffed00\",\"#ef7d00\",\"#e4003a\",\"#c13246\",\"#822661\",\"#48277c\",\"#005ca9\",\"#00aaff\",\"#9b30d9\",\"#af005f\",\"#5f00af\",\"#af87ff\"],\"font\":{\"color\":\"#f2f5fa\",\"family\":\"Fira Code\",\"size\":18},\"geo\":{\"bgcolor\":\"rgb(17,17,17)\",\"lakecolor\":\"rgb(17,17,17)\",\"landcolor\":\"rgb(17,17,17)\",\"showlakes\":true,\"showland\":true,\"subunitcolor\":\"#506784\"},\"hoverlabel\":{\"align\":\"left\"},\"hovermode\":\"x\",\"mapbox\":{\"style\":\"dark\"},\"paper_bgcolor\":\"#000000\",\"plot_bgcolor\":\"#000000\",\"polar\":{\"angularaxis\":{\"gridcolor\":\"#506784\",\"linecolor\":\"#506784\",\"ticks\":\"\"},\"bgcolor\":\"rgb(17,17,17)\",\"radialaxis\":{\"gridcolor\":\"#506784\",\"linecolor\":\"#506784\",\"ticks\":\"\"}},\"scene\":{\"xaxis\":{\"backgroundcolor\":\"rgb(17,17,17)\",\"gridcolor\":\"#506784\",\"gridwidth\":2,\"linecolor\":\"#506784\",\"showbackground\":true,\"ticks\":\"\",\"zerolinecolor\":\"#C8D4E3\"},\"yaxis\":{\"backgroundcolor\":\"rgb(17,17,17)\",\"gridcolor\":\"#506784\",\"gridwidth\":2,\"linecolor\":\"#506784\",\"showbackground\":true,\"ticks\":\"\",\"zerolinecolor\":\"#C8D4E3\"},\"zaxis\":{\"backgroundcolor\":\"rgb(17,17,17)\",\"gridcolor\":\"#506784\",\"gridwidth\":2,\"linecolor\":\"#506784\",\"showbackground\":true,\"ticks\":\"\",\"zerolinecolor\":\"#C8D4E3\"}},\"shapedefaults\":{\"line\":{\"color\":\"#f2f5fa\"}},\"sliderdefaults\":{\"bgcolor\":\"#C8D4E3\",\"bordercolor\":\"rgb(17,17,17)\",\"borderwidth\":1,\"tickwidth\":0},\"ternary\":{\"aaxis\":{\"gridcolor\":\"#506784\",\"linecolor\":\"#506784\",\"ticks\":\"\"},\"baxis\":{\"gridcolor\":\"#506784\",\"linecolor\":\"#506784\",\"ticks\":\"\"},\"bgcolor\":\"rgb(17,17,17)\",\"caxis\":{\"gridcolor\":\"#506784\",\"linecolor\":\"#506784\",\"ticks\":\"\"}},\"title\":{\"x\":0.05},\"updatemenudefaults\":{\"bgcolor\":\"#506784\",\"borderwidth\":0},\"xaxis\":{\"automargin\":true,\"gridcolor\":\"#283442\",\"linecolor\":\"#F5EFF3\",\"ticks\":\"outside\",\"title\":{\"standoff\":20},\"zerolinecolor\":\"#283442\",\"zerolinewidth\":2,\"autorange\":true,\"mirror\":true,\"rangeslider\":{\"visible\":false},\"showgrid\":true,\"showline\":true,\"tick0\":1,\"tickfont\":{\"size\":14},\"zeroline\":false},\"yaxis\":{\"automargin\":true,\"gridcolor\":\"#283442\",\"linecolor\":\"#F5EFF3\",\"ticks\":\"outside\",\"title\":{\"standoff\":20},\"zerolinecolor\":\"#283442\",\"zerolinewidth\":2,\"anchor\":\"x\",\"fixedrange\":false,\"mirror\":true,\"showgrid\":true,\"showline\":true,\"side\":\"right\",\"tick0\":0.5,\"zeroline\":false},\"dragmode\":\"pan\",\"legend\":{\"bgcolor\":\"rgba(0, 0, 0, 0.5)\",\"font\":{\"size\":15},\"x\":0.01,\"xanchor\":\"left\",\"y\":0.99,\"yanchor\":\"top\"},\"legend2\":{\"bgcolor\":\"rgba(0, 0, 0, 0.5)\",\"font\":{\"size\":15}},\"legend3\":{\"bgcolor\":\"rgba(0, 0, 0, 0.5)\",\"font\":{\"size\":15}},\"legend4\":{\"bgcolor\":\"rgba(0, 0, 0, 0.5)\",\"font\":{\"size\":15}},\"legend5\":{\"bgcolor\":\"rgba(0, 0, 0, 0.5)\",\"font\":{\"size\":15}}}},\"margin\":{\"l\":40,\"r\":50,\"b\":80,\"t\":50},\"annotations\":[{\"font\":{\"color\":\"gray\",\"size\":17},\"opacity\":0.5,\"showarrow\":false,\"text\":\"OpenBB Terminal\",\"x\":1,\"xanchor\":\"right\",\"xref\":\"paper\",\"xshift\":40,\"y\":0,\"yanchor\":\"bottom\",\"yref\":\"paper\",\"yshift\":-80}],\"legend\":{\"orientation\":\"v\"},\"barmode\":\"overlay\",\"bargap\":0,\"bargroupgap\":0},                        {\"scrollZoom\": true, \"displaylogo\": false, \"responsive\": true}                    ).then(function(){\n",
       "                            \n",
       "var gd = document.getElementById('9ea15ca9-53e8-4dd0-a59c-2bffe7e6c98a');\n",
       "var x = new MutationObserver(function (mutations, observer) {{\n",
       "        var display = window.getComputedStyle(gd).display;\n",
       "        if (!display || display === 'none') {{\n",
       "            console.log([gd, 'removed!']);\n",
       "            Plotly.purge(gd);\n",
       "            observer.disconnect();\n",
       "        }}\n",
       "}});\n",
       "\n",
       "// Listen for the removal of the full notebook cells\n",
       "var notebookContainer = gd.closest('#notebook-container');\n",
       "if (notebookContainer) {{\n",
       "    x.observe(notebookContainer, {childList: true});\n",
       "}}\n",
       "\n",
       "// Listen for the clearing of the current output cell\n",
       "var outputEl = gd.closest('.output');\n",
       "if (outputEl) {{\n",
       "    x.observe(outputEl, {childList: true});\n",
       "}}\n",
       "\n",
       "                        })                };                });            </script>        </div>"
      ]
     },
     "metadata": {},
     "output_type": "display_data"
    }
   ],
   "source": [
    "option_absolute_plot = OpenBBFigure()\n",
    "\n",
    "option_absolute_plot.add_bar(\n",
    "    x=dataframe['Strike'],\n",
    "    y=dataframe['GEX CALL'],\n",
    "    name='Example',\n",
    "    marker_color=\"lightgreen\",\n",
    "    width=0.8\n",
    ")\n",
    "\n",
    "option_absolute_plot.add_bar(\n",
    "    x=dataframe['Strike'],\n",
    "    y=dataframe['GEX PUT'],\n",
    "    name='Example',\n",
    "    marker_color=\"pink\",\n",
    "    width=0.8\n",
    ")\n",
    "option_absolute_plot.update_layout()\n",
    "option_absolute_plot.show(external=False)"
   ]
  },
  {
   "cell_type": "code",
   "execution_count": null,
   "id": "5135be63-28f9-42b4-8561-3db1e603e5c4",
   "metadata": {},
   "outputs": [],
   "source": []
  },
  {
   "cell_type": "code",
   "execution_count": null,
   "id": "7552c564-2bd9-44c1-a2f9-bb70d6c06928",
   "metadata": {},
   "outputs": [],
   "source": []
  }
 ],
 "metadata": {
  "kernelspec": {
   "display_name": "Python 3 (ipykernel)",
   "language": "python",
   "name": "python3"
  },
  "language_info": {
   "codemirror_mode": {
    "name": "ipython",
    "version": 3
   },
   "file_extension": ".py",
   "mimetype": "text/x-python",
   "name": "python",
   "nbconvert_exporter": "python",
   "pygments_lexer": "ipython3",
   "version": "3.10.13"
  }
 },
 "nbformat": 4,
 "nbformat_minor": 5
}
