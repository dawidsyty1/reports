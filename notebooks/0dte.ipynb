{
 "cells": [
  {
   "cell_type": "raw",
   "id": "a1f9102a-8d99-4391-8d1f-b4c8621bcd9c",
   "metadata": {},
   "source": []
  },
  {
   "cell_type": "code",
   "execution_count": null,
   "id": "0d3fe75f-4e00-4c55-b63c-7ccffe97c1d3",
   "metadata": {
    "tags": []
   },
   "outputs": [],
   "source": []
  },
  {
   "cell_type": "code",
   "execution_count": 1,
   "id": "c1712061",
   "metadata": {
    "scrolled": true,
    "tags": []
   },
   "outputs": [],
   "source": [
    "from openbb_terminal.stocks.options import (\n",
    "    alphaquery_view,\n",
    "    barchart_view,\n",
    "    calculator_view,\n",
    "    chartexchange_view,\n",
    "    fdscanner_view,\n",
    "    intrinio_model,\n",
    "    intrinio_view,\n",
    "    nasdaq_model,\n",
    "    tradier_model,\n",
    "    tradier_view,\n",
    "    yfinance_model,\n",
    "    yfinance_view,\n",
    ")\n",
    "import pytz\n",
    "import pandas as pd\n",
    "from openbb_terminal import OpenBBFigure, theme\n",
    "import matplotlib.pyplot as plt\n",
    "from openbb_terminal.helper_funcs import get_user_timezone\n",
    "from openbb_terminal.stocks.options import alphaquery_model\n",
    "from datetime import datetime, timedelta\n",
    "from dateutil.relativedelta import relativedelta\n",
    "from tqdm import tqdm\n",
    "from openbb_terminal.stocks.options.yfinance_model import (\n",
    "    generate_data,\n",
    "    get_option_chain,\n",
    "    get_price,\n",
    ")\n",
    "from pathlib import Path\n",
    "from openbb_terminal.stocks import cboe_view, stocks_helper, stocks_view\n",
    "from openbb_terminal.stocks.options import op_helpers, yfinance_model\n",
    "from typing import Any, Dict, List, Optional, Union\n",
    "from openbb_terminal.core.plots.plotly_ta.ta_class import PlotlyTA\n",
    "from openbb_terminal.reports import widget_helpers as widgets\n",
    "from collections import defaultdict\n",
    "from matplotlib import pyplot as plt\n",
    "import yfinance as yf\n",
    "import numpy as np\n",
    "from scipy.stats import norm\n",
    "import talib\n",
    "from tabulate import tabulate\n",
    "import base64\n",
    "from google.cloud import storage\n",
    "import os\n",
    "\n"
   ]
  },
  {
   "cell_type": "code",
   "execution_count": 2,
   "id": "4f9a3f6e-757a-40d5-b692-61cb2f83ab5b",
   "metadata": {
    "tags": []
   },
   "outputs": [
    {
     "data": {
      "text/html": [
       "<pre style=\"white-space:pre;overflow-x:auto;line-height:normal;font-family:Menlo,'DejaVu Sans Mono',consolas,'Courier New',monospace\"></pre>\n"
      ],
      "text/plain": [
       "\u001b[?25l"
      ]
     },
     "metadata": {},
     "output_type": "display_data"
    },
    {
     "data": {
      "application/vnd.jupyter.widget-view+json": {
       "model_id": "a13fa0873335455581cbbe54302d8dd6",
       "version_major": 2,
       "version_minor": 0
      },
      "text/plain": [
       "Output()"
      ]
     },
     "metadata": {},
     "output_type": "display_data"
    },
    {
     "data": {
      "text/html": [
       "<pre style=\"white-space:pre;overflow-x:auto;line-height:normal;font-family:Menlo,'DejaVu Sans Mono',consolas,'Courier New',monospace\">\n",
       "</pre>\n"
      ],
      "text/plain": [
       "\n",
       "\u001b[?25h"
      ]
     },
     "metadata": {},
     "output_type": "display_data"
    }
   ],
   "source": [
    "symbol = \"SPY\"\n",
    "full_chain = yfinance_model.get_full_option_chain(symbol)\n",
    "full_chain['strike'] = full_chain['strike'].astype(float)\n",
    "current_price = yfinance_model.get_price(symbol) "
   ]
  },
  {
   "cell_type": "code",
   "execution_count": null,
   "id": "922eabf9-1f55-41ba-b4d7-9b5e1896512e",
   "metadata": {
    "tags": []
   },
   "outputs": [],
   "source": []
  },
  {
   "cell_type": "code",
   "execution_count": null,
   "id": "e13d0738-b493-4353-907a-da4ebb3043f8",
   "metadata": {
    "tags": []
   },
   "outputs": [],
   "source": []
  },
  {
   "cell_type": "code",
   "execution_count": 5,
   "id": "756baeb9-5fd5-45e1-aa91-ee43b9cb1720",
   "metadata": {
    "tags": []
   },
   "outputs": [],
   "source": [
    "def absolute_options_concentration_plot():\n",
    "    pass"
   ]
  },
  {
   "cell_type": "code",
   "execution_count": 23,
   "id": "becf66a9-e9db-45e6-a29e-26f93ccc5932",
   "metadata": {
    "tags": []
   },
   "outputs": [
    {
     "name": "stdout",
     "output_type": "stream",
     "text": [
      "current_expiration 2023-10-18\n",
      "    volume_call  strike  openInterest_call  volume_put  openInterest_put\n",
      "0         135.0   400.0                0.0     -2149.0              -0.0\n",
      "1           9.0   401.0                0.0      -438.0              -0.0\n",
      "2           0.0   405.0                0.0     -2685.0              -0.0\n",
      "3           0.0   409.0                0.0       -49.0              -0.0\n",
      "4           2.0   410.0                0.0      -204.0              -0.0\n",
      "5           1.0   413.0                0.0     -1575.0              -0.0\n",
      "6           0.0   414.0                0.0      -188.0              -0.0\n",
      "7          10.0   415.0                0.0      -799.0              -0.0\n",
      "8           4.0   416.0                0.0      -326.0              -0.0\n",
      "9           2.0   417.0                0.0      -925.0              -0.0\n",
      "10          3.0   418.0                0.0     -2001.0              -0.0\n",
      "11          6.0   419.0                0.0      -684.0              -0.0\n",
      "12         40.0   420.0                0.0     -1829.0              -0.0\n",
      "13          8.0   421.0                0.0     -1685.0              -0.0\n",
      "14         22.0   422.0                0.0     -3458.0              -0.0\n",
      "15        105.0   423.0                0.0     -2877.0              -0.0\n",
      "16        300.0   424.0                0.0     -5732.0              -0.0\n",
      "17       8659.0   425.0                0.0    -12965.0              -0.0\n",
      "18        163.0   426.0                0.0    -13342.0              -0.0\n",
      "19        496.0   427.0                0.0    -12770.0              -0.0\n",
      "20        260.0   428.0                0.0    -19441.0              -0.0\n",
      "21        425.0   429.0                0.0    -19749.0              -0.0\n",
      "22       2194.0   430.0                0.0    -55275.0              -0.0\n",
      "23       3942.0   431.0                0.0    -44020.0              -0.0\n",
      "24       7032.0   432.0                0.0    -76567.0              -0.0\n",
      "25      27105.0   433.0                0.0    -81438.0              -0.0\n",
      "26      45269.0   434.0                0.0   -127822.0              -0.0\n",
      "27     112406.0   435.0                0.0   -105388.0              -0.0\n",
      "28      92925.0   436.0                0.0    -66925.0              -0.0\n",
      "29     124106.0   437.0                0.0    -42134.0              -0.0\n",
      "30      77010.0   438.0                0.0    -19896.0              -0.0\n",
      "31      48579.0   439.0                0.0     -6478.0              -0.0\n",
      "32      54626.0   440.0                0.0     -4713.0              -0.0\n",
      "33      25096.0   441.0                0.0      -984.0              -0.0\n",
      "34      22251.0   442.0                0.0      -559.0              -0.0\n",
      "35      10707.0   443.0                0.0      -785.0              -0.0\n",
      "36      13132.0   444.0                0.0      -291.0              -0.0\n",
      "37       4187.0   445.0                0.0      -201.0              -0.0\n",
      "38       7900.0   446.0                0.0       -92.0              -0.0\n",
      "39        487.0   449.0                0.0       -12.0              -0.0\n",
      "40        260.0   450.0                0.0        -4.0              -0.0\n",
      "41        691.0   451.0                0.0        -0.0              -0.0\n",
      "42          3.0   460.0                0.0        -1.0              -0.0\n"
     ]
    },
    {
     "data": {
      "application/vnd.plotly.v1+json": {
       "config": {
        "displaylogo": false,
        "plotlyServerURL": "https://plot.ly",
        "scrollZoom": true
       },
       "data": [
        {
         "marker": {
          "color": "green",
          "line": {
           "width": 0.15
          }
         },
         "name": "volume_call",
         "type": "bar",
         "width": 0.8,
         "x": [
          400,
          401,
          405,
          409,
          410,
          413,
          414,
          415,
          416,
          417,
          418,
          419,
          420,
          421,
          422,
          423,
          424,
          425,
          426,
          427,
          428,
          429,
          430,
          431,
          432,
          433,
          434,
          435,
          436,
          437,
          438,
          439,
          440,
          441,
          442,
          443,
          444,
          445,
          446,
          449,
          450,
          451,
          460
         ],
         "y": [
          135,
          9,
          0,
          0,
          2,
          1,
          0,
          10,
          4,
          2,
          3,
          6,
          40,
          8,
          22,
          105,
          300,
          8659,
          163,
          496,
          260,
          425,
          2194,
          3942,
          7032,
          27105,
          45269,
          112406,
          92925,
          124106,
          77010,
          48579,
          54626,
          25096,
          22251,
          10707,
          13132,
          4187,
          7900,
          487,
          260,
          691,
          3
         ]
        },
        {
         "marker": {
          "color": "red",
          "line": {
           "width": 0.15
          }
         },
         "name": "volume_put",
         "type": "bar",
         "width": 0.8,
         "x": [
          400,
          401,
          405,
          409,
          410,
          413,
          414,
          415,
          416,
          417,
          418,
          419,
          420,
          421,
          422,
          423,
          424,
          425,
          426,
          427,
          428,
          429,
          430,
          431,
          432,
          433,
          434,
          435,
          436,
          437,
          438,
          439,
          440,
          441,
          442,
          443,
          444,
          445,
          446,
          449,
          450,
          451,
          460
         ],
         "y": [
          -2149,
          -438,
          -2685,
          -49,
          -204,
          -1575,
          -188,
          -799,
          -326,
          -925,
          -2001,
          -684,
          -1829,
          -1685,
          -3458,
          -2877,
          -5732,
          -12965,
          -13342,
          -12770,
          -19441,
          -19749,
          -55275,
          -44020,
          -76567,
          -81438,
          -127822,
          -105388,
          -66925,
          -42134,
          -19896,
          -6478,
          -4713,
          -984,
          -559,
          -785,
          -291,
          -201,
          -92,
          -12,
          -4,
          0,
          -1
         ]
        },
        {
         "hovertemplate": "%{y}",
         "line": {
          "dash": "solid"
         },
         "marker": {
          "color": "white"
         },
         "mode": "lines",
         "name": "Current stock price: 436.0199890136719",
         "type": "scatter",
         "x": [
          null
         ],
         "y": [
          null
         ]
        },
        {
         "hovertemplate": "%{y}",
         "line": {
          "dash": "solid"
         },
         "marker": {
          "color": "red"
         },
         "mode": "lines",
         "name": "Put wall = 434.0",
         "type": "scatter",
         "x": [
          null
         ],
         "y": [
          null
         ]
        },
        {
         "hovertemplate": "%{y}",
         "line": {
          "dash": "solid"
         },
         "marker": {
          "color": "blue"
         },
         "mode": "lines",
         "name": "Call wall = 437.0",
         "type": "scatter",
         "x": [
          null
         ],
         "y": [
          null
         ]
        }
       ],
       "layout": {
        "annotations": [
         {
          "font": {
           "color": "gray",
           "size": 17
          },
          "opacity": 0.5,
          "showarrow": false,
          "text": "OpenBB Terminal",
          "x": 1,
          "xanchor": "right",
          "xref": "paper",
          "xshift": 40,
          "y": 0,
          "yanchor": "bottom",
          "yref": "paper",
          "yshift": -80
         }
        ],
        "autosize": true,
        "bargap": 0,
        "bargroupgap": 0,
        "barmode": "overlay",
        "legend": {
         "orientation": "v"
        },
        "margin": {
         "b": 80,
         "l": 40,
         "r": 50,
         "t": 50
        },
        "shapes": [
         {
          "line": {
           "color": "white",
           "width": 0.8
          },
          "type": "line",
          "x0": 436.0199890136719,
          "x1": 436.0199890136719,
          "xref": "x",
          "y0": 0,
          "y1": 1,
          "yref": "y domain"
         },
         {
          "line": {
           "color": "red",
           "width": 0.8
          },
          "type": "line",
          "x0": 434,
          "x1": 434,
          "xref": "x",
          "y0": 0,
          "y1": 1,
          "yref": "y domain"
         },
         {
          "line": {
           "color": "blue",
           "width": 0.8
          },
          "type": "line",
          "x0": 437,
          "x1": 437,
          "xref": "x",
          "y0": 0,
          "y1": 1,
          "yref": "y domain"
         }
        ],
        "template": {
         "data": {
          "bar": [
           {
            "error_x": {
             "color": "#f2f5fa"
            },
            "error_y": {
             "color": "#f2f5fa"
            },
            "marker": {
             "line": {
              "color": "rgb(17,17,17)",
              "width": 0.5
             },
             "pattern": {
              "fillmode": "overlay",
              "size": 10,
              "solidity": 0.2
             }
            },
            "type": "bar"
           }
          ],
          "barpolar": [
           {
            "marker": {
             "line": {
              "color": "rgb(17,17,17)",
              "width": 0.5
             },
             "pattern": {
              "fillmode": "overlay",
              "size": 10,
              "solidity": 0.2
             }
            },
            "type": "barpolar"
           }
          ],
          "candlestick": [
           {
            "decreasing": {
             "fillcolor": "#e4003a",
             "line": {
              "color": "#e4003a"
             }
            },
            "increasing": {
             "fillcolor": "#00ACFF",
             "line": {
              "color": "#00ACFF"
             }
            },
            "type": "candlestick"
           }
          ],
          "carpet": [
           {
            "aaxis": {
             "endlinecolor": "#A2B1C6",
             "gridcolor": "#506784",
             "linecolor": "#506784",
             "minorgridcolor": "#506784",
             "startlinecolor": "#A2B1C6"
            },
            "baxis": {
             "endlinecolor": "#A2B1C6",
             "gridcolor": "#506784",
             "linecolor": "#506784",
             "minorgridcolor": "#506784",
             "startlinecolor": "#A2B1C6"
            },
            "type": "carpet"
           }
          ],
          "choropleth": [
           {
            "colorbar": {
             "outlinewidth": 0,
             "ticks": ""
            },
            "type": "choropleth"
           }
          ],
          "contour": [
           {
            "colorbar": {
             "outlinewidth": 0,
             "ticks": ""
            },
            "colorscale": [
             [
              0,
              "#0d0887"
             ],
             [
              0.1111111111111111,
              "#46039f"
             ],
             [
              0.2222222222222222,
              "#7201a8"
             ],
             [
              0.3333333333333333,
              "#9c179e"
             ],
             [
              0.4444444444444444,
              "#bd3786"
             ],
             [
              0.5555555555555556,
              "#d8576b"
             ],
             [
              0.6666666666666666,
              "#ed7953"
             ],
             [
              0.7777777777777778,
              "#fb9f3a"
             ],
             [
              0.8888888888888888,
              "#fdca26"
             ],
             [
              1,
              "#f0f921"
             ]
            ],
            "type": "contour"
           }
          ],
          "contourcarpet": [
           {
            "colorbar": {
             "outlinewidth": 0,
             "ticks": ""
            },
            "type": "contourcarpet"
           }
          ],
          "heatmap": [
           {
            "colorbar": {
             "outlinewidth": 0,
             "ticks": ""
            },
            "colorscale": [
             [
              0,
              "#0d0887"
             ],
             [
              0.1111111111111111,
              "#46039f"
             ],
             [
              0.2222222222222222,
              "#7201a8"
             ],
             [
              0.3333333333333333,
              "#9c179e"
             ],
             [
              0.4444444444444444,
              "#bd3786"
             ],
             [
              0.5555555555555556,
              "#d8576b"
             ],
             [
              0.6666666666666666,
              "#ed7953"
             ],
             [
              0.7777777777777778,
              "#fb9f3a"
             ],
             [
              0.8888888888888888,
              "#fdca26"
             ],
             [
              1,
              "#f0f921"
             ]
            ],
            "type": "heatmap"
           }
          ],
          "heatmapgl": [
           {
            "colorbar": {
             "outlinewidth": 0,
             "ticks": ""
            },
            "colorscale": [
             [
              0,
              "#0d0887"
             ],
             [
              0.1111111111111111,
              "#46039f"
             ],
             [
              0.2222222222222222,
              "#7201a8"
             ],
             [
              0.3333333333333333,
              "#9c179e"
             ],
             [
              0.4444444444444444,
              "#bd3786"
             ],
             [
              0.5555555555555556,
              "#d8576b"
             ],
             [
              0.6666666666666666,
              "#ed7953"
             ],
             [
              0.7777777777777778,
              "#fb9f3a"
             ],
             [
              0.8888888888888888,
              "#fdca26"
             ],
             [
              1,
              "#f0f921"
             ]
            ],
            "type": "heatmapgl"
           }
          ],
          "histogram": [
           {
            "marker": {
             "pattern": {
              "fillmode": "overlay",
              "size": 10,
              "solidity": 0.2
             }
            },
            "type": "histogram"
           }
          ],
          "histogram2d": [
           {
            "colorbar": {
             "outlinewidth": 0,
             "ticks": ""
            },
            "colorscale": [
             [
              0,
              "#0d0887"
             ],
             [
              0.1111111111111111,
              "#46039f"
             ],
             [
              0.2222222222222222,
              "#7201a8"
             ],
             [
              0.3333333333333333,
              "#9c179e"
             ],
             [
              0.4444444444444444,
              "#bd3786"
             ],
             [
              0.5555555555555556,
              "#d8576b"
             ],
             [
              0.6666666666666666,
              "#ed7953"
             ],
             [
              0.7777777777777778,
              "#fb9f3a"
             ],
             [
              0.8888888888888888,
              "#fdca26"
             ],
             [
              1,
              "#f0f921"
             ]
            ],
            "type": "histogram2d"
           }
          ],
          "histogram2dcontour": [
           {
            "colorbar": {
             "outlinewidth": 0,
             "ticks": ""
            },
            "colorscale": [
             [
              0,
              "#0d0887"
             ],
             [
              0.1111111111111111,
              "#46039f"
             ],
             [
              0.2222222222222222,
              "#7201a8"
             ],
             [
              0.3333333333333333,
              "#9c179e"
             ],
             [
              0.4444444444444444,
              "#bd3786"
             ],
             [
              0.5555555555555556,
              "#d8576b"
             ],
             [
              0.6666666666666666,
              "#ed7953"
             ],
             [
              0.7777777777777778,
              "#fb9f3a"
             ],
             [
              0.8888888888888888,
              "#fdca26"
             ],
             [
              1,
              "#f0f921"
             ]
            ],
            "type": "histogram2dcontour"
           }
          ],
          "mesh3d": [
           {
            "colorbar": {
             "outlinewidth": 0,
             "ticks": ""
            },
            "type": "mesh3d"
           }
          ],
          "parcoords": [
           {
            "line": {
             "colorbar": {
              "outlinewidth": 0,
              "ticks": ""
             }
            },
            "type": "parcoords"
           }
          ],
          "pie": [
           {
            "automargin": true,
            "type": "pie"
           }
          ],
          "scatter": [
           {
            "marker": {
             "line": {
              "color": "#283442"
             }
            },
            "type": "scatter"
           }
          ],
          "scatter3d": [
           {
            "line": {
             "colorbar": {
              "outlinewidth": 0,
              "ticks": ""
             }
            },
            "marker": {
             "colorbar": {
              "outlinewidth": 0,
              "ticks": ""
             }
            },
            "type": "scatter3d"
           }
          ],
          "scattercarpet": [
           {
            "marker": {
             "colorbar": {
              "outlinewidth": 0,
              "ticks": ""
             }
            },
            "type": "scattercarpet"
           }
          ],
          "scattergeo": [
           {
            "marker": {
             "colorbar": {
              "outlinewidth": 0,
              "ticks": ""
             }
            },
            "type": "scattergeo"
           }
          ],
          "scattergl": [
           {
            "marker": {
             "line": {
              "color": "#283442"
             }
            },
            "type": "scattergl"
           }
          ],
          "scattermapbox": [
           {
            "marker": {
             "colorbar": {
              "outlinewidth": 0,
              "ticks": ""
             }
            },
            "type": "scattermapbox"
           }
          ],
          "scatterpolar": [
           {
            "marker": {
             "colorbar": {
              "outlinewidth": 0,
              "ticks": ""
             }
            },
            "type": "scatterpolar"
           }
          ],
          "scatterpolargl": [
           {
            "marker": {
             "colorbar": {
              "outlinewidth": 0,
              "ticks": ""
             }
            },
            "type": "scatterpolargl"
           }
          ],
          "scatterternary": [
           {
            "marker": {
             "colorbar": {
              "outlinewidth": 0,
              "ticks": ""
             }
            },
            "type": "scatterternary"
           }
          ],
          "surface": [
           {
            "colorbar": {
             "outlinewidth": 0,
             "ticks": ""
            },
            "colorscale": [
             [
              0,
              "#0d0887"
             ],
             [
              0.1111111111111111,
              "#46039f"
             ],
             [
              0.2222222222222222,
              "#7201a8"
             ],
             [
              0.3333333333333333,
              "#9c179e"
             ],
             [
              0.4444444444444444,
              "#bd3786"
             ],
             [
              0.5555555555555556,
              "#d8576b"
             ],
             [
              0.6666666666666666,
              "#ed7953"
             ],
             [
              0.7777777777777778,
              "#fb9f3a"
             ],
             [
              0.8888888888888888,
              "#fdca26"
             ],
             [
              1,
              "#f0f921"
             ]
            ],
            "type": "surface"
           }
          ],
          "table": [
           {
            "cells": {
             "fill": {
              "color": "#506784"
             },
             "line": {
              "color": "rgb(17,17,17)"
             }
            },
            "header": {
             "fill": {
              "color": "#2a3f5f"
             },
             "line": {
              "color": "rgb(17,17,17)"
             }
            },
            "type": "table"
           }
          ]
         },
         "layout": {
          "annotationdefaults": {
           "arrowcolor": "#f2f5fa",
           "arrowhead": 0,
           "arrowwidth": 1,
           "showarrow": false
          },
          "autotypenumbers": "strict",
          "coloraxis": {
           "colorbar": {
            "outlinewidth": 0,
            "ticks": ""
           }
          },
          "colorscale": {
           "diverging": [
            [
             0,
             "#8e0152"
            ],
            [
             0.1,
             "#c51b7d"
            ],
            [
             0.2,
             "#de77ae"
            ],
            [
             0.3,
             "#f1b6da"
            ],
            [
             0.4,
             "#fde0ef"
            ],
            [
             0.5,
             "#f7f7f7"
            ],
            [
             0.6,
             "#e6f5d0"
            ],
            [
             0.7,
             "#b8e186"
            ],
            [
             0.8,
             "#7fbc41"
            ],
            [
             0.9,
             "#4d9221"
            ],
            [
             1,
             "#276419"
            ]
           ],
           "sequential": [
            [
             0,
             "#0d0887"
            ],
            [
             0.1111111111111111,
             "#46039f"
            ],
            [
             0.2222222222222222,
             "#7201a8"
            ],
            [
             0.3333333333333333,
             "#9c179e"
            ],
            [
             0.4444444444444444,
             "#bd3786"
            ],
            [
             0.5555555555555556,
             "#d8576b"
            ],
            [
             0.6666666666666666,
             "#ed7953"
            ],
            [
             0.7777777777777778,
             "#fb9f3a"
            ],
            [
             0.8888888888888888,
             "#fdca26"
            ],
            [
             1,
             "#f0f921"
            ]
           ],
           "sequentialminus": [
            [
             0,
             "#0d0887"
            ],
            [
             0.1111111111111111,
             "#46039f"
            ],
            [
             0.2222222222222222,
             "#7201a8"
            ],
            [
             0.3333333333333333,
             "#9c179e"
            ],
            [
             0.4444444444444444,
             "#bd3786"
            ],
            [
             0.5555555555555556,
             "#d8576b"
            ],
            [
             0.6666666666666666,
             "#ed7953"
            ],
            [
             0.7777777777777778,
             "#fb9f3a"
            ],
            [
             0.8888888888888888,
             "#fdca26"
            ],
            [
             1,
             "#f0f921"
            ]
           ]
          },
          "colorway": [
           "#ffed00",
           "#ef7d00",
           "#e4003a",
           "#c13246",
           "#822661",
           "#48277c",
           "#005ca9",
           "#00aaff",
           "#9b30d9",
           "#af005f",
           "#5f00af",
           "#af87ff"
          ],
          "dragmode": "pan",
          "font": {
           "color": "#f2f5fa",
           "family": "Fira Code",
           "size": 18
          },
          "geo": {
           "bgcolor": "rgb(17,17,17)",
           "lakecolor": "rgb(17,17,17)",
           "landcolor": "rgb(17,17,17)",
           "showlakes": true,
           "showland": true,
           "subunitcolor": "#506784"
          },
          "hoverlabel": {
           "align": "left"
          },
          "hovermode": "x",
          "legend": {
           "bgcolor": "rgba(0, 0, 0, 0.5)",
           "font": {
            "size": 15
           },
           "x": 0.01,
           "xanchor": "left",
           "y": 0.99,
           "yanchor": "top"
          },
          "legend2": {
           "bgcolor": "rgba(0, 0, 0, 0.5)",
           "font": {
            "size": 15
           }
          },
          "legend3": {
           "bgcolor": "rgba(0, 0, 0, 0.5)",
           "font": {
            "size": 15
           }
          },
          "legend4": {
           "bgcolor": "rgba(0, 0, 0, 0.5)",
           "font": {
            "size": 15
           }
          },
          "legend5": {
           "bgcolor": "rgba(0, 0, 0, 0.5)",
           "font": {
            "size": 15
           }
          },
          "mapbox": {
           "style": "dark"
          },
          "paper_bgcolor": "#000000",
          "plot_bgcolor": "#000000",
          "polar": {
           "angularaxis": {
            "gridcolor": "#506784",
            "linecolor": "#506784",
            "ticks": ""
           },
           "bgcolor": "rgb(17,17,17)",
           "radialaxis": {
            "gridcolor": "#506784",
            "linecolor": "#506784",
            "ticks": ""
           }
          },
          "scene": {
           "xaxis": {
            "backgroundcolor": "rgb(17,17,17)",
            "gridcolor": "#506784",
            "gridwidth": 2,
            "linecolor": "#506784",
            "showbackground": true,
            "ticks": "",
            "zerolinecolor": "#C8D4E3"
           },
           "yaxis": {
            "backgroundcolor": "rgb(17,17,17)",
            "gridcolor": "#506784",
            "gridwidth": 2,
            "linecolor": "#506784",
            "showbackground": true,
            "ticks": "",
            "zerolinecolor": "#C8D4E3"
           },
           "zaxis": {
            "backgroundcolor": "rgb(17,17,17)",
            "gridcolor": "#506784",
            "gridwidth": 2,
            "linecolor": "#506784",
            "showbackground": true,
            "ticks": "",
            "zerolinecolor": "#C8D4E3"
           }
          },
          "shapedefaults": {
           "line": {
            "color": "#f2f5fa"
           }
          },
          "sliderdefaults": {
           "bgcolor": "#C8D4E3",
           "bordercolor": "rgb(17,17,17)",
           "borderwidth": 1,
           "tickwidth": 0
          },
          "ternary": {
           "aaxis": {
            "gridcolor": "#506784",
            "linecolor": "#506784",
            "ticks": ""
           },
           "baxis": {
            "gridcolor": "#506784",
            "linecolor": "#506784",
            "ticks": ""
           },
           "bgcolor": "rgb(17,17,17)",
           "caxis": {
            "gridcolor": "#506784",
            "linecolor": "#506784",
            "ticks": ""
           }
          },
          "title": {
           "x": 0.05
          },
          "updatemenudefaults": {
           "bgcolor": "#506784",
           "borderwidth": 0
          },
          "xaxis": {
           "automargin": true,
           "autorange": true,
           "gridcolor": "#283442",
           "linecolor": "#F5EFF3",
           "mirror": true,
           "rangeslider": {
            "visible": false
           },
           "showgrid": true,
           "showline": true,
           "tick0": 1,
           "tickfont": {
            "size": 14
           },
           "ticks": "outside",
           "title": {
            "standoff": 20
           },
           "zeroline": false,
           "zerolinecolor": "#283442",
           "zerolinewidth": 2
          },
          "yaxis": {
           "anchor": "x",
           "automargin": true,
           "fixedrange": false,
           "gridcolor": "#283442",
           "linecolor": "#F5EFF3",
           "mirror": true,
           "showgrid": true,
           "showline": true,
           "side": "right",
           "tick0": 0.5,
           "ticks": "outside",
           "title": {
            "standoff": 20
           },
           "zeroline": false,
           "zerolinecolor": "#283442",
           "zerolinewidth": 2
          }
         }
        },
        "xaxis": {
         "autorange": false,
         "range": [
          409.34694661438607,
          464.54202911457963
         ],
         "type": "linear"
        },
        "yaxis": {
         "autorange": false,
         "range": [
          -131728.9758322078,
          121553.11422441801
         ],
         "type": "linear"
        }
       }
      },
      "image/png": "[encoded data removed]",
      "text/html": [
       "<div>                            <div id=\"8005d31f-3fdc-49b7-b38b-f90c565fa7f5\" class=\"plotly-graph-div\" style=\"height:525px; width:100%;\"></div>            <script type=\"text/javascript\">                require([\"plotly\"], function(Plotly) {                    window.PLOTLYENV=window.PLOTLYENV || {};                                    if (document.getElementById(\"8005d31f-3fdc-49b7-b38b-f90c565fa7f5\")) {                    Plotly.newPlot(                        \"8005d31f-3fdc-49b7-b38b-f90c565fa7f5\",                        [{\"marker\":{\"color\":\"green\",\"line\":{\"width\":0.15}},\"name\":\"volume_call\",\"width\":0.8,\"x\":[400.0,401.0,405.0,409.0,410.0,413.0,414.0,415.0,416.0,417.0,418.0,419.0,420.0,421.0,422.0,423.0,424.0,425.0,426.0,427.0,428.0,429.0,430.0,431.0,432.0,433.0,434.0,435.0,436.0,437.0,438.0,439.0,440.0,441.0,442.0,443.0,444.0,445.0,446.0,449.0,450.0,451.0,460.0],\"y\":[135.0,9.0,0.0,0.0,2.0,1.0,0.0,10.0,4.0,2.0,3.0,6.0,40.0,8.0,22.0,105.0,300.0,8659.0,163.0,496.0,260.0,425.0,2194.0,3942.0,7032.0,27105.0,45269.0,112406.0,92925.0,124106.0,77010.0,48579.0,54626.0,25096.0,22251.0,10707.0,13132.0,4187.0,7900.0,487.0,260.0,691.0,3.0],\"type\":\"bar\"},{\"marker\":{\"color\":\"red\",\"line\":{\"width\":0.15}},\"name\":\"volume_put\",\"width\":0.8,\"x\":[400.0,401.0,405.0,409.0,410.0,413.0,414.0,415.0,416.0,417.0,418.0,419.0,420.0,421.0,422.0,423.0,424.0,425.0,426.0,427.0,428.0,429.0,430.0,431.0,432.0,433.0,434.0,435.0,436.0,437.0,438.0,439.0,440.0,441.0,442.0,443.0,444.0,445.0,446.0,449.0,450.0,451.0,460.0],\"y\":[-2149.0,-438.0,-2685.0,-49.0,-204.0,-1575.0,-188.0,-799.0,-326.0,-925.0,-2001.0,-684.0,-1829.0,-1685.0,-3458.0,-2877.0,-5732.0,-12965.0,-13342.0,-12770.0,-19441.0,-19749.0,-55275.0,-44020.0,-76567.0,-81438.0,-127822.0,-105388.0,-66925.0,-42134.0,-19896.0,-6478.0,-4713.0,-984.0,-559.0,-785.0,-291.0,-201.0,-92.0,-12.0,-4.0,-0.0,-1.0],\"type\":\"bar\"},{\"line\":{\"dash\":\"solid\"},\"marker\":{\"color\":\"white\"},\"mode\":\"lines\",\"name\":\"Current stock price: 436.0199890136719\",\"x\":[null],\"y\":[null],\"type\":\"scatter\",\"hovertemplate\":\"%{y}\"},{\"line\":{\"dash\":\"solid\"},\"marker\":{\"color\":\"red\"},\"mode\":\"lines\",\"name\":\"Put wall = 434.0\",\"x\":[null],\"y\":[null],\"type\":\"scatter\",\"hovertemplate\":\"%{y}\"},{\"line\":{\"dash\":\"solid\"},\"marker\":{\"color\":\"blue\"},\"mode\":\"lines\",\"name\":\"Call wall = 437.0\",\"x\":[null],\"y\":[null],\"type\":\"scatter\",\"hovertemplate\":\"%{y}\"}],                        {\"template\":{\"data\":{\"barpolar\":[{\"marker\":{\"line\":{\"color\":\"rgb(17,17,17)\",\"width\":0.5},\"pattern\":{\"fillmode\":\"overlay\",\"size\":10,\"solidity\":0.2}},\"type\":\"barpolar\"}],\"bar\":[{\"error_x\":{\"color\":\"#f2f5fa\"},\"error_y\":{\"color\":\"#f2f5fa\"},\"marker\":{\"line\":{\"color\":\"rgb(17,17,17)\",\"width\":0.5},\"pattern\":{\"fillmode\":\"overlay\",\"size\":10,\"solidity\":0.2}},\"type\":\"bar\"}],\"carpet\":[{\"aaxis\":{\"endlinecolor\":\"#A2B1C6\",\"gridcolor\":\"#506784\",\"linecolor\":\"#506784\",\"minorgridcolor\":\"#506784\",\"startlinecolor\":\"#A2B1C6\"},\"baxis\":{\"endlinecolor\":\"#A2B1C6\",\"gridcolor\":\"#506784\",\"linecolor\":\"#506784\",\"minorgridcolor\":\"#506784\",\"startlinecolor\":\"#A2B1C6\"},\"type\":\"carpet\"}],\"choropleth\":[{\"colorbar\":{\"outlinewidth\":0,\"ticks\":\"\"},\"type\":\"choropleth\"}],\"contourcarpet\":[{\"colorbar\":{\"outlinewidth\":0,\"ticks\":\"\"},\"type\":\"contourcarpet\"}],\"contour\":[{\"colorbar\":{\"outlinewidth\":0,\"ticks\":\"\"},\"colorscale\":[[0.0,\"#0d0887\"],[0.1111111111111111,\"#46039f\"],[0.2222222222222222,\"#7201a8\"],[0.3333333333333333,\"#9c179e\"],[0.4444444444444444,\"#bd3786\"],[0.5555555555555556,\"#d8576b\"],[0.6666666666666666,\"#ed7953\"],[0.7777777777777778,\"#fb9f3a\"],[0.8888888888888888,\"#fdca26\"],[1.0,\"#f0f921\"]],\"type\":\"contour\"}],\"heatmapgl\":[{\"colorbar\":{\"outlinewidth\":0,\"ticks\":\"\"},\"colorscale\":[[0.0,\"#0d0887\"],[0.1111111111111111,\"#46039f\"],[0.2222222222222222,\"#7201a8\"],[0.3333333333333333,\"#9c179e\"],[0.4444444444444444,\"#bd3786\"],[0.5555555555555556,\"#d8576b\"],[0.6666666666666666,\"#ed7953\"],[0.7777777777777778,\"#fb9f3a\"],[0.8888888888888888,\"#fdca26\"],[1.0,\"#f0f921\"]],\"type\":\"heatmapgl\"}],\"heatmap\":[{\"colorbar\":{\"outlinewidth\":0,\"ticks\":\"\"},\"colorscale\":[[0.0,\"#0d0887\"],[0.1111111111111111,\"#46039f\"],[0.2222222222222222,\"#7201a8\"],[0.3333333333333333,\"#9c179e\"],[0.4444444444444444,\"#bd3786\"],[0.5555555555555556,\"#d8576b\"],[0.6666666666666666,\"#ed7953\"],[0.7777777777777778,\"#fb9f3a\"],[0.8888888888888888,\"#fdca26\"],[1.0,\"#f0f921\"]],\"type\":\"heatmap\"}],\"histogram2dcontour\":[{\"colorbar\":{\"outlinewidth\":0,\"ticks\":\"\"},\"colorscale\":[[0.0,\"#0d0887\"],[0.1111111111111111,\"#46039f\"],[0.2222222222222222,\"#7201a8\"],[0.3333333333333333,\"#9c179e\"],[0.4444444444444444,\"#bd3786\"],[0.5555555555555556,\"#d8576b\"],[0.6666666666666666,\"#ed7953\"],[0.7777777777777778,\"#fb9f3a\"],[0.8888888888888888,\"#fdca26\"],[1.0,\"#f0f921\"]],\"type\":\"histogram2dcontour\"}],\"histogram2d\":[{\"colorbar\":{\"outlinewidth\":0,\"ticks\":\"\"},\"colorscale\":[[0.0,\"#0d0887\"],[0.1111111111111111,\"#46039f\"],[0.2222222222222222,\"#7201a8\"],[0.3333333333333333,\"#9c179e\"],[0.4444444444444444,\"#bd3786\"],[0.5555555555555556,\"#d8576b\"],[0.6666666666666666,\"#ed7953\"],[0.7777777777777778,\"#fb9f3a\"],[0.8888888888888888,\"#fdca26\"],[1.0,\"#f0f921\"]],\"type\":\"histogram2d\"}],\"histogram\":[{\"marker\":{\"pattern\":{\"fillmode\":\"overlay\",\"size\":10,\"solidity\":0.2}},\"type\":\"histogram\"}],\"mesh3d\":[{\"colorbar\":{\"outlinewidth\":0,\"ticks\":\"\"},\"type\":\"mesh3d\"}],\"parcoords\":[{\"line\":{\"colorbar\":{\"outlinewidth\":0,\"ticks\":\"\"}},\"type\":\"parcoords\"}],\"pie\":[{\"automargin\":true,\"type\":\"pie\"}],\"scatter3d\":[{\"line\":{\"colorbar\":{\"outlinewidth\":0,\"ticks\":\"\"}},\"marker\":{\"colorbar\":{\"outlinewidth\":0,\"ticks\":\"\"}},\"type\":\"scatter3d\"}],\"scattercarpet\":[{\"marker\":{\"colorbar\":{\"outlinewidth\":0,\"ticks\":\"\"}},\"type\":\"scattercarpet\"}],\"scattergeo\":[{\"marker\":{\"colorbar\":{\"outlinewidth\":0,\"ticks\":\"\"}},\"type\":\"scattergeo\"}],\"scattergl\":[{\"marker\":{\"line\":{\"color\":\"#283442\"}},\"type\":\"scattergl\"}],\"scattermapbox\":[{\"marker\":{\"colorbar\":{\"outlinewidth\":0,\"ticks\":\"\"}},\"type\":\"scattermapbox\"}],\"scatterpolargl\":[{\"marker\":{\"colorbar\":{\"outlinewidth\":0,\"ticks\":\"\"}},\"type\":\"scatterpolargl\"}],\"scatterpolar\":[{\"marker\":{\"colorbar\":{\"outlinewidth\":0,\"ticks\":\"\"}},\"type\":\"scatterpolar\"}],\"scatter\":[{\"marker\":{\"line\":{\"color\":\"#283442\"}},\"type\":\"scatter\"}],\"scatterternary\":[{\"marker\":{\"colorbar\":{\"outlinewidth\":0,\"ticks\":\"\"}},\"type\":\"scatterternary\"}],\"surface\":[{\"colorbar\":{\"outlinewidth\":0,\"ticks\":\"\"},\"colorscale\":[[0.0,\"#0d0887\"],[0.1111111111111111,\"#46039f\"],[0.2222222222222222,\"#7201a8\"],[0.3333333333333333,\"#9c179e\"],[0.4444444444444444,\"#bd3786\"],[0.5555555555555556,\"#d8576b\"],[0.6666666666666666,\"#ed7953\"],[0.7777777777777778,\"#fb9f3a\"],[0.8888888888888888,\"#fdca26\"],[1.0,\"#f0f921\"]],\"type\":\"surface\"}],\"table\":[{\"cells\":{\"fill\":{\"color\":\"#506784\"},\"line\":{\"color\":\"rgb(17,17,17)\"}},\"header\":{\"fill\":{\"color\":\"#2a3f5f\"},\"line\":{\"color\":\"rgb(17,17,17)\"}},\"type\":\"table\"}],\"candlestick\":[{\"decreasing\":{\"fillcolor\":\"#e4003a\",\"line\":{\"color\":\"#e4003a\"}},\"increasing\":{\"fillcolor\":\"#00ACFF\",\"line\":{\"color\":\"#00ACFF\"}},\"type\":\"candlestick\"}]},\"layout\":{\"annotationdefaults\":{\"arrowcolor\":\"#f2f5fa\",\"arrowhead\":0,\"arrowwidth\":1,\"showarrow\":false},\"autotypenumbers\":\"strict\",\"coloraxis\":{\"colorbar\":{\"outlinewidth\":0,\"ticks\":\"\"}},\"colorscale\":{\"diverging\":[[0,\"#8e0152\"],[0.1,\"#c51b7d\"],[0.2,\"#de77ae\"],[0.3,\"#f1b6da\"],[0.4,\"#fde0ef\"],[0.5,\"#f7f7f7\"],[0.6,\"#e6f5d0\"],[0.7,\"#b8e186\"],[0.8,\"#7fbc41\"],[0.9,\"#4d9221\"],[1,\"#276419\"]],\"sequential\":[[0.0,\"#0d0887\"],[0.1111111111111111,\"#46039f\"],[0.2222222222222222,\"#7201a8\"],[0.3333333333333333,\"#9c179e\"],[0.4444444444444444,\"#bd3786\"],[0.5555555555555556,\"#d8576b\"],[0.6666666666666666,\"#ed7953\"],[0.7777777777777778,\"#fb9f3a\"],[0.8888888888888888,\"#fdca26\"],[1.0,\"#f0f921\"]],\"sequentialminus\":[[0.0,\"#0d0887\"],[0.1111111111111111,\"#46039f\"],[0.2222222222222222,\"#7201a8\"],[0.3333333333333333,\"#9c179e\"],[0.4444444444444444,\"#bd3786\"],[0.5555555555555556,\"#d8576b\"],[0.6666666666666666,\"#ed7953\"],[0.7777777777777778,\"#fb9f3a\"],[0.8888888888888888,\"#fdca26\"],[1.0,\"#f0f921\"]]},\"colorway\":[\"#ffed00\",\"#ef7d00\",\"#e4003a\",\"#c13246\",\"#822661\",\"#48277c\",\"#005ca9\",\"#00aaff\",\"#9b30d9\",\"#af005f\",\"#5f00af\",\"#af87ff\"],\"font\":{\"color\":\"#f2f5fa\",\"family\":\"Fira Code\",\"size\":18},\"geo\":{\"bgcolor\":\"rgb(17,17,17)\",\"lakecolor\":\"rgb(17,17,17)\",\"landcolor\":\"rgb(17,17,17)\",\"showlakes\":true,\"showland\":true,\"subunitcolor\":\"#506784\"},\"hoverlabel\":{\"align\":\"left\"},\"hovermode\":\"x\",\"mapbox\":{\"style\":\"dark\"},\"paper_bgcolor\":\"#000000\",\"plot_bgcolor\":\"#000000\",\"polar\":{\"angularaxis\":{\"gridcolor\":\"#506784\",\"linecolor\":\"#506784\",\"ticks\":\"\"},\"bgcolor\":\"rgb(17,17,17)\",\"radialaxis\":{\"gridcolor\":\"#506784\",\"linecolor\":\"#506784\",\"ticks\":\"\"}},\"scene\":{\"xaxis\":{\"backgroundcolor\":\"rgb(17,17,17)\",\"gridcolor\":\"#506784\",\"gridwidth\":2,\"linecolor\":\"#506784\",\"showbackground\":true,\"ticks\":\"\",\"zerolinecolor\":\"#C8D4E3\"},\"yaxis\":{\"backgroundcolor\":\"rgb(17,17,17)\",\"gridcolor\":\"#506784\",\"gridwidth\":2,\"linecolor\":\"#506784\",\"showbackground\":true,\"ticks\":\"\",\"zerolinecolor\":\"#C8D4E3\"},\"zaxis\":{\"backgroundcolor\":\"rgb(17,17,17)\",\"gridcolor\":\"#506784\",\"gridwidth\":2,\"linecolor\":\"#506784\",\"showbackground\":true,\"ticks\":\"\",\"zerolinecolor\":\"#C8D4E3\"}},\"shapedefaults\":{\"line\":{\"color\":\"#f2f5fa\"}},\"sliderdefaults\":{\"bgcolor\":\"#C8D4E3\",\"bordercolor\":\"rgb(17,17,17)\",\"borderwidth\":1,\"tickwidth\":0},\"ternary\":{\"aaxis\":{\"gridcolor\":\"#506784\",\"linecolor\":\"#506784\",\"ticks\":\"\"},\"baxis\":{\"gridcolor\":\"#506784\",\"linecolor\":\"#506784\",\"ticks\":\"\"},\"bgcolor\":\"rgb(17,17,17)\",\"caxis\":{\"gridcolor\":\"#506784\",\"linecolor\":\"#506784\",\"ticks\":\"\"}},\"title\":{\"x\":0.05},\"updatemenudefaults\":{\"bgcolor\":\"#506784\",\"borderwidth\":0},\"xaxis\":{\"automargin\":true,\"gridcolor\":\"#283442\",\"linecolor\":\"#F5EFF3\",\"ticks\":\"outside\",\"title\":{\"standoff\":20},\"zerolinecolor\":\"#283442\",\"zerolinewidth\":2,\"autorange\":true,\"mirror\":true,\"rangeslider\":{\"visible\":false},\"showgrid\":true,\"showline\":true,\"tick0\":1,\"tickfont\":{\"size\":14},\"zeroline\":false},\"yaxis\":{\"automargin\":true,\"gridcolor\":\"#283442\",\"linecolor\":\"#F5EFF3\",\"ticks\":\"outside\",\"title\":{\"standoff\":20},\"zerolinecolor\":\"#283442\",\"zerolinewidth\":2,\"anchor\":\"x\",\"fixedrange\":false,\"mirror\":true,\"showgrid\":true,\"showline\":true,\"side\":\"right\",\"tick0\":0.5,\"zeroline\":false},\"dragmode\":\"pan\",\"legend\":{\"bgcolor\":\"rgba(0, 0, 0, 0.5)\",\"font\":{\"size\":15},\"x\":0.01,\"xanchor\":\"left\",\"y\":0.99,\"yanchor\":\"top\"},\"legend2\":{\"bgcolor\":\"rgba(0, 0, 0, 0.5)\",\"font\":{\"size\":15}},\"legend3\":{\"bgcolor\":\"rgba(0, 0, 0, 0.5)\",\"font\":{\"size\":15}},\"legend4\":{\"bgcolor\":\"rgba(0, 0, 0, 0.5)\",\"font\":{\"size\":15}},\"legend5\":{\"bgcolor\":\"rgba(0, 0, 0, 0.5)\",\"font\":{\"size\":15}}}},\"shapes\":[{\"line\":{\"color\":\"white\",\"width\":0.8},\"type\":\"line\",\"x0\":436.0199890136719,\"x1\":436.0199890136719,\"xref\":\"x\",\"y0\":0,\"y1\":1,\"yref\":\"y domain\"},{\"line\":{\"color\":\"red\",\"width\":0.8},\"type\":\"line\",\"x0\":434.0,\"x1\":434.0,\"xref\":\"x\",\"y0\":0,\"y1\":1,\"yref\":\"y domain\"},{\"line\":{\"color\":\"blue\",\"width\":0.8},\"type\":\"line\",\"x0\":437.0,\"x1\":437.0,\"xref\":\"x\",\"y0\":0,\"y1\":1,\"yref\":\"y domain\"}],\"margin\":{\"l\":40,\"r\":50,\"b\":80,\"t\":50},\"annotations\":[{\"font\":{\"color\":\"gray\",\"size\":17},\"opacity\":0.5,\"showarrow\":false,\"text\":\"OpenBB Terminal\",\"x\":1,\"xanchor\":\"right\",\"xref\":\"paper\",\"xshift\":40,\"y\":0,\"yanchor\":\"bottom\",\"yref\":\"paper\",\"yshift\":-80}],\"legend\":{\"orientation\":\"v\"},\"barmode\":\"overlay\",\"bargap\":0,\"bargroupgap\":0},                        {\"scrollZoom\": true, \"displaylogo\": false, \"responsive\": true}                    ).then(function(){\n",
       "                            \n",
       "var gd = document.getElementById('8005d31f-3fdc-49b7-b38b-f90c565fa7f5');\n",
       "var x = new MutationObserver(function (mutations, observer) {{\n",
       "        var display = window.getComputedStyle(gd).display;\n",
       "        if (!display || display === 'none') {{\n",
       "            console.log([gd, 'removed!']);\n",
       "            Plotly.purge(gd);\n",
       "            observer.disconnect();\n",
       "        }}\n",
       "}});\n",
       "\n",
       "// Listen for the removal of the full notebook cells\n",
       "var notebookContainer = gd.closest('#notebook-container');\n",
       "if (notebookContainer) {{\n",
       "    x.observe(notebookContainer, {childList: true});\n",
       "}}\n",
       "\n",
       "// Listen for the clearing of the current output cell\n",
       "var outputEl = gd.closest('.output');\n",
       "if (outputEl) {{\n",
       "    x.observe(outputEl, {childList: true});\n",
       "}}\n",
       "\n",
       "                        })                };                });            </script>        </div>"
      ]
     },
     "metadata": {},
     "output_type": "display_data"
    }
   ],
   "source": [
    "chain = full_chain.copy()\n",
    "current_expiration = chain.expiration.iloc[0]\n",
    "print('current_expiration', current_expiration)\n",
    "chain = chain[chain[\"expiration\"] == current_expiration]\n",
    "\n",
    "call_field_name = 'volume_call'\n",
    "put_field_name = 'volume_put'\n",
    "\n",
    "#option chain calculation require for absolute volume\n",
    "min_strike = 0.90 * current_price\n",
    "max_strike = 1.10 * current_price\n",
    "\n",
    "chain = chain[chain[\"strike\"] >= min_strike]\n",
    "chain = chain[chain[\"strike\"] <= max_strike]\n",
    "\n",
    "calls = chain[chain[\"optionType\"] == \"call\"]\n",
    "puts = chain[chain[\"optionType\"] == \"put\"]\n",
    "\n",
    "option_chain = pd.merge(\n",
    "    calls[[\"volume\", \"strike\", \"openInterest\"]],\n",
    "    puts[[\"volume\", \"strike\", \"openInterest\"]],\n",
    "    on=\"strike\",\n",
    ")\n",
    "\n",
    "option_chain = option_chain.rename(\n",
    "    columns={\n",
    "        \"volume_x\": \"volume_call\",\n",
    "        \"volume_y\": \"volume_put\",\n",
    "        \"openInterest_x\": \"openInterest_call\",\n",
    "        \"openInterest_y\": \"openInterest_put\",\n",
    "    }\n",
    ")\n",
    "\n",
    "option_chain[[\"openInterest_put\", \"volume_put\"]] = (\n",
    "    option_chain[[\"openInterest_put\", \"volume_put\"]] * -1\n",
    ")\n",
    "option_chain[[\"openInterest_call\", \"volume_call\"]] = (\n",
    "    option_chain[[\"openInterest_call\", \"volume_call\"]]\n",
    ")\n",
    "#calculate put/call wall above/bellow price\n",
    "try:\n",
    "    put_wall_id = option_chain[option_chain['strike'] <= current_price][put_field_name].idxmin()\n",
    "    call_wall_id = option_chain[option_chain['strike'] >= current_price][call_field_name].idxmax()\n",
    "    put_wall = option_chain.iloc[put_wall_id].strike\n",
    "    call_wall = option_chain.iloc[call_wall_id].strike\n",
    "except:\n",
    "    put_wall = None\n",
    "    call_wall = None\n",
    "option_absolute_plot = OpenBBFigure()\n",
    "\n",
    "option_absolute_plot.add_bar(\n",
    "    x=option_chain.strike,\n",
    "    y=option_chain[call_field_name],\n",
    "    name=call_field_name,\n",
    "    marker_color=\"green\",\n",
    "    width=0.8\n",
    ")\n",
    "\n",
    "option_absolute_plot.add_bar(\n",
    "    x=option_chain.strike,\n",
    "    y=option_chain[put_field_name],\n",
    "    name=put_field_name,\n",
    "    marker_color=\"red\",\n",
    "    width=0.8\n",
    ")\n",
    "option_absolute_plot.add_vline_legend(\n",
    "    x=current_price,\n",
    "    name=f\"Current stock price: {current_price}\",\n",
    "    line=dict(width=0.8, color=\"white\"),\n",
    ")\n",
    "\n",
    "if put_wall:\n",
    "    option_absolute_plot.add_vline_legend(\n",
    "        x=put_wall,\n",
    "        name=f\"Put wall = {put_wall}\",\n",
    "        line=dict(width=0.8, color=\"red\"),\n",
    "    )\n",
    "if call_wall:\n",
    "    option_absolute_plot.add_vline_legend(\n",
    "        x=call_wall,\n",
    "        name=f\"Call wall = {call_wall}\",\n",
    "        line=dict(width=0.8, color=\"blue\"),\n",
    "    )\n",
    "\n",
    "option_absolute_plot.update_layout()\n",
    "option_absolute_plot.show(external=False)"
   ]
  },
  {
   "cell_type": "code",
   "execution_count": null,
   "id": "81cb6403-71d4-46df-8520-979f6bdd4163",
   "metadata": {},
   "outputs": [],
   "source": []
  },
  {
   "cell_type": "code",
   "execution_count": null,
   "id": "d78c53bb-d063-44a8-a9d1-67da78e61c39",
   "metadata": {},
   "outputs": [],
   "source": []
  }
 ],
 "metadata": {
  "celltoolbar": "Tags",
  "kernelspec": {
   "display_name": "Python 3 (ipykernel)",
   "language": "python",
   "name": "python3"
  },
  "language_info": {
   "codemirror_mode": {
    "name": "ipython",
    "version": 3
   },
   "file_extension": ".py",
   "mimetype": "text/x-python",
   "name": "python",
   "nbconvert_exporter": "python",
   "pygments_lexer": "ipython3",
   "version": "3.10.13"
  },
  "vscode": {
   "interpreter": {
    "hash": "5884d32f23cebd85614e61b7b7ae47cd3ddb4b608302151a537f0a43f338bd80"
   }
  }
 },
 "nbformat": 4,
 "nbformat_minor": 5
}
